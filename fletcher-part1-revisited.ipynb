{
 "cells": [
  {
   "cell_type": "code",
   "execution_count": 1,
   "metadata": {
    "collapsed": false
   },
   "outputs": [],
   "source": [
    "import urllib2\n",
    "from bs4 import BeautifulSoup\n",
    "from pprint import pprint\n",
    "from datetime import datetime"
   ]
  },
  {
   "cell_type": "code",
   "execution_count": 4,
   "metadata": {
    "collapsed": false
   },
   "outputs": [],
   "source": [
    "import pymongo\n",
    "\n",
    "from pymongo import MongoClient \n",
    "c = MongoClient() \n",
    "c['espace5'].drop_collection('forumsbis')\n",
    "\n",
    "db = c['espace5']\n",
    "forum_messages = db['forumsbis']"
   ]
  },
  {
   "cell_type": "code",
   "execution_count": 5,
   "metadata": {
    "collapsed": false
   },
   "outputs": [],
   "source": [
    "data = []\n",
    "url = \"http://www.forum-auto.com/marques/renault/sujet5226-\"\n",
    "\n",
    "for scan in range(3395-1260,3046,35):\n",
    "    scan_page = url+str(scan+1260)+'.htm'\n",
    "    page = urllib2.urlopen(scan_page)\n",
    "    soup = BeautifulSoup(page)\n",
    "    case1 = soup.findAll(\"td\", { \"class\" : \"messCase1\" })\n",
    "    case2 = soup.findAll(\"td\", { \"class\" : \"messCase2\" })\n",
    "    for x,y in zip(case1, case2):\n",
    "        try:\n",
    "            user_id = x.find(\"span\").text\n",
    "            date_posted = y.find(\"div\", { \"class\" : \"toolbar\" }).text\n",
    "            date_posted = datetime.strptime(date_posted[9:19]+\" \"+date_posted[22:30], '%d-%m-%Y %H:%M:%S')\n",
    "            try:\n",
    "                y.find(\"div\", { \"class\" : \"toolbar\" }).extract()\n",
    "            except:\n",
    "                pass\n",
    "            try:\n",
    "                y.find(\"table\", { \"class\" : \"citation\" }).extract()\n",
    "            except:\n",
    "                pass\n",
    "            try:\n",
    "                y.find(\"div\", { \"class\" : \"edited\" }).extract()\n",
    "            except:\n",
    "                pass\n",
    "            try:\n",
    "                y.find(\"div\", { \"class\" : \"edited\" }).extract()\n",
    "            except:\n",
    "                pass\n",
    "            try:\n",
    "                y.find(\"span\", { \"class\" : \"signature\" }).extract()\n",
    "            except:\n",
    "                pass\n",
    "            try:\n",
    "                photos = y.findAll(\"span\", { \"class\" : \"bbcode display_photo width_650\" })\n",
    "                for photo in photos:\n",
    "                    photo.extract()\n",
    "            except:\n",
    "                pass\n",
    "\n",
    "            doc = {'text': y.getText(\" \"), 'user': user_id, 'date': date_posted , 'forum_id' : 'forum-auto-secrets-espace-5'}\n",
    "            forum_messages.save(doc)\n",
    "        except:\n",
    "            pass"
   ]
  },
  {
   "cell_type": "code",
   "execution_count": 6,
   "metadata": {
    "collapsed": false
   },
   "outputs": [
    {
     "data": {
      "text/plain": [
       "964"
      ]
     },
     "execution_count": 6,
     "metadata": {},
     "output_type": "execute_result"
    }
   ],
   "source": [
    "forum_messages.count()"
   ]
  },
  {
   "cell_type": "code",
   "execution_count": 7,
   "metadata": {
    "collapsed": false
   },
   "outputs": [
    {
     "name": "stdout",
     "output_type": "stream",
     "text": [
      "\n",
      " Reprise du message précédent : Merci de l'info! \n"
     ]
    }
   ],
   "source": [
    "m = forum_messages.find_one()\n",
    "print m['text']"
   ]
  },
  {
   "cell_type": "code",
   "execution_count": 8,
   "metadata": {
    "collapsed": false
   },
   "outputs": [],
   "source": [
    "url = \"http://www.planeterenault.com/forum/espace-v-topic-unique-vos-avis-infos-impressions-sur-la-5eme-generation-d-espace-t45815-\"\n",
    "\n",
    "for scan in range(0,109,18):\n",
    "    scan_page = url+str(scan)+'.html'\n",
    "    page = urllib2.urlopen(scan_page)\n",
    "    soup = BeautifulSoup(page)\n",
    "    rows = soup.findAll(\"table\", { \"class\" : \"row1\" })\n",
    "    rows += soup.findAll(\"table\", { \"class\" : \"row2\" })\n",
    "    for row in rows:\n",
    "        user = row.find(\"td\", { \"class\" : \"user\" })\n",
    "        user_id = user.find(\"span\", { \"class\" : \"auteurPost\" }).text.strip(' \\t\\n\\r').rstrip(' \\t\\n\\r')\n",
    "        user.extract()\n",
    "        message_id = row.find(\"a\")['href']\n",
    "        message_id = message_id[1+message_id.index('#'):]\n",
    "        date_raw = row.find(\"a\").parent\n",
    "        date_posted = date_raw.text.lstrip(' \\t\\n\\r').rstrip(' \\t\\n\\r')\n",
    "        date_posted = date_posted[4:8]+date_posted[11:]\n",
    "        mapping = { 'S':'09', 'O':'10', 'N':'11', 'D':'12', 'J':'01', 'F':'02',  'M':'03',  'A':'04'}\n",
    "        for k, v in mapping.iteritems():\n",
    "            date_posted = date_posted.replace(k, v)\n",
    "        date_posted = datetime.strptime(date_posted, '%d %m %Y %H:%M:%S')\n",
    "        date_raw.extract()\n",
    "        message_raw = row.find(\"div\", { \"id\" : \"message_\"+message_id })\n",
    "        try:\n",
    "            message_raw.find(\"table\").extract()\n",
    "        except:\n",
    "            pass\n",
    "        message = message_raw.getText(\" \").lstrip(' \\t\\n\\r').rstrip(' \\t\\n\\r')\n",
    "\n",
    "        doc = {'text': message, 'user': user_id, 'date': date_posted , 'forum_id' : 'planeterenault-espace-5'}\n",
    "        forum_messages.save(doc)"
   ]
  },
  {
   "cell_type": "code",
   "execution_count": 9,
   "metadata": {
    "collapsed": false
   },
   "outputs": [
    {
     "data": {
      "text/plain": [
       "1085"
      ]
     },
     "execution_count": 9,
     "metadata": {},
     "output_type": "execute_result"
    }
   ],
   "source": [
    "forum_messages.count()"
   ]
  },
  {
   "cell_type": "code",
   "execution_count": 10,
   "metadata": {
    "collapsed": false
   },
   "outputs": [
    {
     "name": "stdout",
     "output_type": "stream",
     "text": [
      "Hello,\n",
      " \n",
      "\n",
      " \n",
      "J'inaugure le sujet général sur l'Espace 5 avec les premičres informations commerciales communiquées par Renault :\n"
     ]
    }
   ],
   "source": [
    "m = forum_messages.find_one({'forum_id' : 'planeterenault-espace-5'})\n",
    "print m['text']"
   ]
  },
  {
   "cell_type": "code",
   "execution_count": 11,
   "metadata": {
    "collapsed": false
   },
   "outputs": [
    {
     "name": "stdout",
     "output_type": "stream",
     "text": [
      "964\n",
      "121\n"
     ]
    }
   ],
   "source": [
    "print forum_messages.find({'forum_id' : 'forum-auto-secrets-espace-5'}).count()\n",
    "print forum_messages.find({'forum_id' : 'planeterenault-espace-5'}).count()"
   ]
  },
  {
   "cell_type": "code",
   "execution_count": null,
   "metadata": {
    "collapsed": false
   },
   "outputs": [],
   "source": []
  }
 ],
 "metadata": {
  "kernelspec": {
   "display_name": "Python 2",
   "language": "python",
   "name": "python2"
  },
  "language_info": {
   "codemirror_mode": {
    "name": "ipython",
    "version": 2
   },
   "file_extension": ".py",
   "mimetype": "text/x-python",
   "name": "python",
   "nbconvert_exporter": "python",
   "pygments_lexer": "ipython2",
   "version": "2.7.6"
  }
 },
 "nbformat": 4,
 "nbformat_minor": 0
}
