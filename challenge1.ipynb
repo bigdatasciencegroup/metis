{
 "cells": [
  {
   "cell_type": "markdown",
   "metadata": {},
   "source": [
    "Download a few mta turnstile data files from http://web.mta.info/developers/turnstile.html"
   ]
  },
  {
   "cell_type": "code",
   "execution_count": 40,
   "metadata": {
    "collapsed": false
   },
   "outputs": [
    {
     "name": "stdout",
     "output_type": "stream",
     "text": [
      "--2015-01-19 08:40:43--  http://web.mta.info/developers/data/nyct/turnstile/turnstile_141108.txt\n",
      "Resolving web.mta.info... 107.14.41.112, 107.14.41.104\n",
      "Connecting to web.mta.info|107.14.41.112|:80... connected.\n",
      "HTTP request sent, awaiting response... 200 OK\n",
      "Length: unspecified [text/plain]\n",
      "Saving to: 'turnstile_141108.txt.1'\n",
      "\n",
      "turnstile_141108.tx     [  <=>                 ]  24.33M  1.57MB/s   in 16s    \n",
      "\n",
      "2015-01-19 08:41:00 (1.49 MB/s) - 'turnstile_141108.txt.1' saved [25513691]\n",
      "\n"
     ]
    }
   ],
   "source": [
    "!wget http://web.mta.info/developers/data/nyct/turnstile/turnstile_141108.txt"
   ]
  },
  {
   "cell_type": "code",
   "execution_count": 41,
   "metadata": {
    "collapsed": false
   },
   "outputs": [
    {
     "name": "stdout",
     "output_type": "stream",
     "text": [
      "--2015-01-19 08:41:00--  http://web.mta.info/developers/data/nyct/turnstile/turnstile_141220.txt\n",
      "Resolving web.mta.info... 107.14.41.104, 107.14.41.112\n",
      "Connecting to web.mta.info|107.14.41.104|:80... connected.\n",
      "HTTP request sent, awaiting response... 200 OK\n",
      "Length: unspecified [text/plain]\n",
      "Saving to: 'turnstile_141220.txt.1'\n",
      "\n",
      "turnstile_141220.tx     [   <=>                ]  24.04M  1.53MB/s   in 16s    \n",
      "\n",
      "2015-01-19 08:41:16 (1.47 MB/s) - 'turnstile_141220.txt.1' saved [25208068]\n",
      "\n"
     ]
    }
   ],
   "source": [
    "!wget http://web.mta.info/developers/data/nyct/turnstile/turnstile_141220.txt"
   ]
  },
  {
   "cell_type": "markdown",
   "metadata": {},
   "source": [
    "Open up a file, use csv reader to read it, make a python dict where there is a key for each (C/A, UNIT, SCP, STATION). These are the first four columns. The value for this key should be a list of lists. Each list in the list is the rest of the columns in a row. For example, one key-value pair should look like\n",
    "\n",
    "{    ('A002','R051','02-00-00','LEXINGTON AVE'):    \n",
    "     [\n",
    "       ['NQR456', 'BMT', '01/03/2015', '03:00:00', 'REGULAR', '0004945474', '0001675324'],          \n",
    "       ['NQR456', 'BMT', '01/03/2015', '07:00:00', 'REGULAR', '0004945478', '0001675333'],  \n",
    "       ['NQR456', 'BMT', '01/03/2015', '11:00:00', 'REGULAR', '0004945515', '0001675364'],\n",
    "       ...   \n",
    "     ] \n",
    "}"
   ]
  },
  {
   "cell_type": "code",
   "execution_count": 42,
   "metadata": {
    "collapsed": false
   },
   "outputs": [
    {
     "name": "stdout",
     "output_type": "stream",
     "text": [
      "{('A002', 'R051', '02-00-00', 'LEXINGTON AVE'): [['NQR456', 'BMT', '11/29/2014', '03:00:00', 'REGULAR', '0004894443', '0001659781'], ['NQR456', 'BMT', '11/29/2014', '07:00:00', 'REGULAR', '0004894453', '0001659793'], ['NQR456', 'BMT', '11/29/2014', '11:00:00', 'REGULAR', '0004894507', '0001659885'], ['NQR456', 'BMT', '11/29/2014', '15:00:00', 'REGULAR', '0004894735', '0001659947'], ['NQR456', 'BMT', '11/29/2014', '19:00:00', 'REGULAR', '0004895083', '0001660008']]}\n"
     ]
    }
   ],
   "source": [
    "import csv\n",
    "import sys\n",
    "d = {}\n",
    "with open('turnstile_141206.txt', 'r') as turnstile_file:\n",
    "    reader = csv.reader(turnstile_file)\n",
    "    reader.next()\n",
    "    for num, row in enumerate(reader):\n",
    "        try:\n",
    "            if num == 5:\n",
    "                break\n",
    "            k = tuple(row[:4])\n",
    "            v = row[4:10]\n",
    "            v.append(row[10].replace(\" \",\"\"))\n",
    "            if k not in d:\n",
    "                d[k]=[]\n",
    "            d[k].append(v)\n",
    "        except TypeError:\n",
    "            print >> sys.stderr, 'row %i failed' % num\n",
    "            \n",
    "print d"
   ]
  },
  {
   "cell_type": "markdown",
   "metadata": {},
   "source": [
    "For each key (basically the control area, unit, device address and station of a specific turnstile), have a list again, but let the list be comprised of just the point in time and the cumulative count of entries.\n",
    "\n",
    "This basically means keeping only the date, time, and entries fields in each list. You can convert the date and time into datetime objects -- That is a python class that represents a point in time. You can combine the date and time fields into a string and use the dateutil13 module to convert it into a datetime object. For an example check this StackOverflow question11.\n",
    "\n",
    "Your new dict should look something like\n",
    "\n",
    "{\n",
    "('A002','R051','02-00-00','LEXINGTON AVE'):\n",
    "        [\n",
    "            [datetime.datetime(2013, 3, 2, 3, 0), 3788],\n",
    "            [datetime.datetime(2013, 3, 2, 7, 0), 2585],\n",
    "            [datetime.datetime(2013, 3, 2, 12, 0), 10653],\n",
    "            [datetime.datetime(2013, 3, 2, 17, 0), 11016],\n",
    "            [datetime.datetime(2013, 3, 2, 23, 0), 10666],\n",
    "            [datetime.datetime(2013, 3, 3, 3, 0), 10814],\n",
    "            [datetime.datetime(2013, 3, 3, 7, 0), 10229],\n",
    "            ...\n",
    "          ],\n",
    " ....\n",
    " }"
   ]
  },
  {
   "cell_type": "code",
   "execution_count": 43,
   "metadata": {
    "collapsed": false
   },
   "outputs": [
    {
     "data": {
      "text/plain": [
       "datetime.datetime(2014, 11, 1, 13, 45, 31)"
      ]
     },
     "execution_count": 43,
     "metadata": {},
     "output_type": "execute_result"
    }
   ],
   "source": [
    "from datetime import datetime, date, time \n",
    "datetime.strptime('11/01/2014'+' '+'13:45:31', '%m/%d/%Y %H:%M:%S')"
   ]
  },
  {
   "cell_type": "code",
   "execution_count": 44,
   "metadata": {
    "collapsed": false
   },
   "outputs": [],
   "source": [
    "def load_turnstile_file(ts_file, slot='all', entries=True):\n",
    "    d = {}\n",
    "    with open(ts_file, 'r') as turnstile_file:\n",
    "        reader = csv.reader(turnstile_file)\n",
    "        reader.next()\n",
    "        for num, row in enumerate(reader):\n",
    "            try:\n",
    "                k = tuple(row[:4])\n",
    "                if entries==True:\n",
    "                    v = [datetime.strptime(row[6]+' '+row[7], '%m/%d/%Y %H:%M:%S'),int(row[9])]\n",
    "                else:\n",
    "                    v = [datetime.strptime(row[6]+' '+row[7], '%m/%d/%Y %H:%M:%S'),int(row[10].replace(\" \",\"\"))]\n",
    "                if k not in d:\n",
    "                    d[k]=[]\n",
    "                if (slot == 'all') or (slot == 'morning' and v[0].hour < 12) or (slot == 'noon' and (v[0].hour > 10 and v[0].hour<16)) or (slot == 'evening' and v[0].hour > 14):\n",
    "                    d[k].append(v)\n",
    "            except (TypeError, IndexError):\n",
    "                print >> sys.stderr, 'row %i failed' % num\n",
    "    return d\n",
    "\n",
    "\n",
    "d = load_turnstile_file('turnstile_141220.txt')"
   ]
  },
  {
   "cell_type": "markdown",
   "metadata": {},
   "source": [
    "These counts are cumulative every n hours. We want total daily entries.\n",
    "Now make it that we again have the same keys, but now we have a single value for a single day, which is not cumulative counts but the total number of passengers that entered through this turnstile on this day."
   ]
  },
  {
   "cell_type": "code",
   "execution_count": 62,
   "metadata": {
    "collapsed": false
   },
   "outputs": [],
   "source": [
    "#solution A\n",
    "#1    { (turnstyle):[ [datetime1, counter1], [datetime2, counter2], [datetime3, counter3], ... ] }                d\n",
    "#2                  [ [day1, counter1], [day1, counter2], [day2, counter3], ... ]                                 .date()\n",
    "#3                  { day1:[counter1, counter2, ...], day2:[counter3, ...], ... }                                 day_to_cumulcounts\n",
    "#4                  [ [day1, maxcountersday1 - mincountersday1], [day2, maxcountersday2 - mincountersday2], ...]  daily_count_dict\n",
    "\n",
    "#solution B\n",
    "#1    { (turnstyle):[ [datetime1, counter1], [datetime2, counter2], [datetime3, counter3], ... ] }\n",
    "#2                  [ [day1, counter1, 0, 9999999999], [day1, counter2, 0, 9999999999], [day2, counter3, 0, 9999999999], ... ]\n",
    "#3                  [ [day1, counter1, mincountersday1, maxcountersday1], [day1, counter2, mincountersday1, maxcountersday1], [day2, counter3, mincountersday2, maxcountersday2], ... ]\n",
    "#4                  [ [day1, maxcountersday1 - mincountersday1], [day2, maxcountersday2 - mincountersday2], ...]\n",
    "\n",
    "def solutionA(d):\n",
    "    daily_count_dict = {}\n",
    "    for i,j in d.items():\n",
    "        day_to_cumulcounts = {}\n",
    "        for v in j:\n",
    "            day = v[0].date()\n",
    "            if day not in day_to_cumulcounts:\n",
    "                day_to_cumulcounts[day] = []\n",
    "            day_to_cumulcounts[day].append(v[1])\n",
    "        for day, counts in day_to_cumulcounts.items():\n",
    "            daily_ridership = max(counts) - min(counts)\n",
    "            if i not in daily_count_dict:\n",
    "                daily_count_dict[i]=[]\n",
    "            daily_count_dict[i].append( (day, daily_ridership))\n",
    "    return daily_count_dict"
   ]
  },
  {
   "cell_type": "code",
   "execution_count": 63,
   "metadata": {
    "collapsed": false
   },
   "outputs": [],
   "source": [
    "# solutionB\n",
    "\n",
    "def extend_d(d):\n",
    "    dd = {}\n",
    "    for i,j in d.items():\n",
    "        for v in j:\n",
    "            day = v[0].date()\n",
    "            c = v[1]\n",
    "            k = i\n",
    "            v = [day, c, 99999999999, 0]\n",
    "            if k not in dd:\n",
    "                dd[k]=[]\n",
    "            dd[k].append(v)\n",
    "    return dd\n",
    "        \n",
    "def fill_min_max(dd):\n",
    "    ddd = {}\n",
    "    for i,j in dd.items():\n",
    "        for v in j:\n",
    "            d,c,mn,mx = v\n",
    "            for vv in j:\n",
    "                if vv[0]==d:\n",
    "                    if mn>vv[1]:\n",
    "                        mn=vv[1]\n",
    "                    if mx<vv[1]:\n",
    "                        mx=vv[1]\n",
    "            k = i\n",
    "            v = [d, c, mn, mx]\n",
    "            if k not in ddd:\n",
    "                ddd[k]=[]\n",
    "            ddd[k].append(v)\n",
    "    return ddd\n",
    "\n",
    "def keep_diff(ddd):\n",
    "    dddd = {}\n",
    "    for i,j in ddd.items():\n",
    "        for v in j:\n",
    "            d = v[0]\n",
    "            c = v[3]-v[2]\n",
    "            if c > 100000: #if the counter is reset then remove inappropriate result\n",
    "                c = 0\n",
    "            k = i\n",
    "            v = [d, c]\n",
    "            if k not in dddd:\n",
    "                dddd[k]=[]\n",
    "            if v not in dddd[k]:\n",
    "                dddd[k].append(v)\n",
    "    return dddd"
   ]
  },
  {
   "cell_type": "code",
   "execution_count": 64,
   "metadata": {
    "collapsed": false
   },
   "outputs": [],
   "source": [
    "dddd = keep_diff(fill_min_max(extend_d(load_turnstile_file('turnstile_141108.txt'))))\n",
    "\n",
    "ddddm = keep_diff(fill_min_max(extend_d(load_turnstile_file('turnstile_141108.txt', 'morning'))))\n",
    "\n",
    "ddddn = keep_diff(fill_min_max(extend_d(load_turnstile_file('turnstile_141108.txt', 'noon'))))\n",
    "\n",
    "dddde = keep_diff(fill_min_max(extend_d(load_turnstile_file('turnstile_141108.txt', 'evening'))))\n",
    "\n",
    "dddd2 = keep_diff(fill_min_max(extend_d(load_turnstile_file('turnstile_141018.txt'))))"
   ]
  },
  {
   "cell_type": "code",
   "execution_count": 65,
   "metadata": {
    "collapsed": false
   },
   "outputs": [
    {
     "name": "stdout",
     "output_type": "stream",
     "text": [
      "(('A030', 'R083', '01-06-00', '23 ST-5 AVE'), [[datetime.date(2014, 11, 1), 1003], [datetime.date(2014, 11, 2), 979], [datetime.date(2014, 11, 3), 2387], [datetime.date(2014, 11, 4), 2472], [datetime.date(2014, 11, 5), 2585], [datetime.date(2014, 11, 6), 2641], [datetime.date(2014, 11, 7), 2538]])\n",
      "(('A030', 'R083', '01-06-00', '23 ST-5 AVE'), [(datetime.date(2014, 11, 1), 1003), (datetime.date(2014, 11, 6), 2641), (datetime.date(2014, 11, 7), 2538), (datetime.date(2014, 11, 4), 2472), (datetime.date(2014, 11, 5), 2585), (datetime.date(2014, 11, 2), 979), (datetime.date(2014, 11, 3), 2387)])\n"
     ]
    }
   ],
   "source": [
    "ddddA = solutionA(load_turnstile_file('turnstile_141108.txt'))\n",
    "\n",
    "print dddd.items()[0]\n",
    "print ddddA.items()[0]"
   ]
  },
  {
   "cell_type": "markdown",
   "metadata": {},
   "source": [
    "We will plot the daily time series for a turnstile.\n",
    "\n",
    "Take the list of [(date1, count1), (date2, count2), ...], for the turnstile and turn it into two lists: dates and counts."
   ]
  },
  {
   "cell_type": "code",
   "execution_count": 49,
   "metadata": {
    "collapsed": false
   },
   "outputs": [
    {
     "data": {
      "text/plain": [
       "[<matplotlib.lines.Line2D at 0x111e79d10>,\n",
       " <matplotlib.lines.Line2D at 0x1171b8350>,\n",
       " <matplotlib.lines.Line2D at 0x1171b8a10>,\n",
       " <matplotlib.lines.Line2D at 0x1189d4090>]"
      ]
     },
     "execution_count": 49,
     "metadata": {},
     "output_type": "execute_result"
    },
    {
     "data": {
      "image/png": "[encoded data removed]",
      "text/plain": [
       "<matplotlib.figure.Figure at 0x1120a1390>"
      ]
     },
     "metadata": {},
     "output_type": "display_data"
    }
   ],
   "source": [
    "%matplotlib inline\n",
    "import matplotlib.pyplot as plt\n",
    "\n",
    "a,b = dddd.items()[0]\n",
    "\n",
    "am,bm = ddddm.items()[0]\n",
    "\n",
    "an,bn = ddddn.items()[0]\n",
    "\n",
    "ae,be = dddde.items()[0]\n",
    "\n",
    "a2,b2 = dddd2.items()[0]\n",
    "\n",
    "dates=[]\n",
    "counts=[]\n",
    "for x,y in b:\n",
    "    dates.append(x)\n",
    "    counts.append(y)\n",
    "    \n",
    "datesm=[]\n",
    "countsm=[]\n",
    "for x,y in bm:\n",
    "    datesm.append(x)\n",
    "    countsm.append(y)\n",
    "\n",
    "datesn=[]\n",
    "countsn=[]\n",
    "for x,y in bn:\n",
    "    datesn.append(x)\n",
    "    countsn.append(y)\n",
    "\n",
    "datese=[]\n",
    "countse=[]\n",
    "for x,y in be:\n",
    "    datese.append(x)\n",
    "    countse.append(y)\n",
    "\n",
    "dates2=[]\n",
    "counts2=[]\n",
    "for x,y in b2:\n",
    "    dates2.append(x)\n",
    "    counts2.append(y)\n",
    "    \n",
    "plt.figure(figsize=(10,3))\n",
    "plt.plot(dates,counts,datesm,countsm,datesn,countsn,datese,countse)"
   ]
  },
  {
   "cell_type": "markdown",
   "metadata": {},
   "source": [
    "So far we've been operating on a single turnstile level, let's combine turnstiles in the same ControlArea/Unit/Station combo. There are some ControlArea/Unit/Station groups that have a single turnstile, but most have multiple turnstilea-- same value for the C/A, UNIT and STATION columns, different values for the SCP column.\n",
    "We want to combine the numbers together -- for each ControlArea/UNIT/STATION combo, for each day, add the counts from each turnstile belonging to that combo."
   ]
  },
  {
   "cell_type": "code",
   "execution_count": 50,
   "metadata": {
    "collapsed": false
   },
   "outputs": [],
   "source": [
    "def remove_scp(dddd):\n",
    "    n = {}\n",
    "    for a,b in dddd.items():\n",
    "        k = (a[0],a[1],a[3])\n",
    "        if k not in n:\n",
    "            n[k]=[]\n",
    "        li = n[k]\n",
    "        li.extend(b)\n",
    "        n[k]=li\n",
    "    return n\n",
    "\n",
    "n = remove_scp(dddd)\n",
    "\n",
    "def aggregate_count(n):\n",
    "    nnn = {}\n",
    "    for i,j in n.items():\n",
    "        l = {}\n",
    "        for v in j:\n",
    "            d = v[0]\n",
    "            c = v[1]\n",
    "            if d not in l:\n",
    "                l[d] = 0\n",
    "            l[d] = l[d] + c\n",
    "        r = []\n",
    "        for k, v in l.items():\n",
    "            r.append([k,v])\n",
    "        nnn[i]=sorted(r)\n",
    "    return nnn\n",
    "\n",
    "nnn = aggregate_count(remove_scp(dddd))"
   ]
  },
  {
   "cell_type": "markdown",
   "metadata": {},
   "source": [
    "Similarly, combine everything in each station, and come up with a time series of [(date1, count1),(date2,count2),...] type of time series for each STATION, by adding up all the turnstiles in a station."
   ]
  },
  {
   "cell_type": "code",
   "execution_count": 51,
   "metadata": {
    "collapsed": false
   },
   "outputs": [],
   "source": [
    "def keep_station(dddd):\n",
    "    n = {}\n",
    "    for a,b in dddd.items():\n",
    "        k = (a[3])\n",
    "        if k not in n:\n",
    "            n[k]=[]\n",
    "        li = n[k]\n",
    "        li.extend(b)\n",
    "        n[k]=li\n",
    "    return n\n",
    "\n",
    "n = remove_scp(dddd)\n",
    "n2 = remove_scp(dddd2)\n",
    "\n",
    "def aggregate_count(n):\n",
    "    nnn = {}\n",
    "    for i,j in n.items():\n",
    "        l = {}\n",
    "        for v in j:\n",
    "            d = v[0]\n",
    "            c = v[1]\n",
    "            if d not in l:\n",
    "                l[d] = 0\n",
    "            l[d] = l[d] + c\n",
    "        r = []\n",
    "        for k, v in l.items():\n",
    "            r.append([k,v])\n",
    "        nnn[i]=sorted(r)\n",
    "    return nnn\n",
    "\n",
    "nnn = aggregate_count(keep_station(dddd))\n",
    "nnnm = aggregate_count(keep_station(ddddm))\n",
    "nnnn = aggregate_count(keep_station(ddddn))\n",
    "nnne = aggregate_count(keep_station(dddde))\n",
    "nnn2 = aggregate_count(keep_station(dddd2))"
   ]
  },
  {
   "cell_type": "code",
   "execution_count": 52,
   "metadata": {
    "collapsed": false
   },
   "outputs": [
    {
     "name": "stdout",
     "output_type": "stream",
     "text": [
      "('BOYD-88 ST', [[datetime.date(2014, 11, 1), 291], [datetime.date(2014, 11, 2), 228], [datetime.date(2014, 11, 3), 579], [datetime.date(2014, 11, 4), 533], [datetime.date(2014, 11, 5), 552], [datetime.date(2014, 11, 6), 594], [datetime.date(2014, 11, 7), 576]])\n",
      "('NEWKIRK PLAZA', [[datetime.date(2014, 11, 1), 5219], [datetime.date(2014, 11, 2), 4585], [datetime.date(2014, 11, 3), 11009], [datetime.date(2014, 11, 4), 10076], [datetime.date(2014, 11, 5), 11365], [datetime.date(2014, 11, 6), 10825], [datetime.date(2014, 11, 7), 10956]])\n",
      "('BOYD-88 ST', [[datetime.date(2014, 10, 11), 213], [datetime.date(2014, 10, 12), 132], [datetime.date(2014, 10, 13), 607], [datetime.date(2014, 10, 14), 925], [datetime.date(2014, 10, 15), 738], [datetime.date(2014, 10, 16), 702], [datetime.date(2014, 10, 17), 499]])\n",
      "('NEWKIRK PLAZA', [[datetime.date(2014, 10, 11), 5589], [datetime.date(2014, 10, 12), 4875], [datetime.date(2014, 10, 13), 8101], [datetime.date(2014, 10, 14), 11181], [datetime.date(2014, 10, 15), 11394], [datetime.date(2014, 10, 16), 10809], [datetime.date(2014, 10, 17), 7269]])\n",
      "[[datetime.date(2014, 11, 1), 3101], [datetime.date(2014, 11, 2), 4601], [datetime.date(2014, 11, 3), 7069], [datetime.date(2014, 11, 4), 7024], [datetime.date(2014, 11, 5), 7227], [datetime.date(2014, 11, 6), 6880], [datetime.date(2014, 11, 7), 7865]]\n"
     ]
    }
   ],
   "source": [
    "print nnn.items()[0]\n",
    "print nnn.items()[1]\n",
    "print nnn2.items()[0]\n",
    "print nnn2.items()[1]\n",
    "\n",
    "def station_count(nnn, station_name='CROWN HTS-UTICA'):\n",
    "    for x, y in nnn.items():\n",
    "        if x == station_name:\n",
    "            return y\n",
    "        \n",
    "import operator \n",
    "def station_weekcount(nnn):\n",
    "    d = {}\n",
    "    for x, y in nnn.items():\n",
    "        c = 0\n",
    "        for t in y:\n",
    "            c = c + t[1]\n",
    "        d[x]=c\n",
    "    return d\n",
    "        \n",
    "sc = station_count(nnn)\n",
    "scm = station_count(nnnm)\n",
    "scn = station_count(nnnn)\n",
    "sce = station_count(nnne)\n",
    "print sce"
   ]
  },
  {
   "cell_type": "code",
   "execution_count": 53,
   "metadata": {
    "collapsed": false
   },
   "outputs": [],
   "source": [
    "dates=[1,2,3,4,5,6,7]\n",
    "\n",
    "def station_count2list(sc):\n",
    "    counts=[]\n",
    "    for x,y in sc:\n",
    "        counts.append(y)\n",
    "    return counts\n",
    "\n",
    "counts=station_count2list(sc)\n",
    "\n",
    "countsm=station_count2list(scm)\n",
    "\n",
    "countsn=station_count2list(scn)\n",
    "\n",
    "countse=station_count2list(sce)"
   ]
  },
  {
   "cell_type": "markdown",
   "metadata": {},
   "source": [
    "Plot the time series for a station"
   ]
  },
  {
   "cell_type": "code",
   "execution_count": 54,
   "metadata": {
    "collapsed": false
   },
   "outputs": [
    {
     "data": {
      "text/plain": [
       "[<matplotlib.lines.Line2D at 0x10e590d90>]"
      ]
     },
     "execution_count": 54,
     "metadata": {},
     "output_type": "execute_result"
    },
    {
     "data": {
      "image/png": "[encoded data removed]",
      "text/plain": [
       "<matplotlib.figure.Figure at 0x11229bb10>"
      ]
     },
     "metadata": {},
     "output_type": "display_data"
    }
   ],
   "source": [
    "plt.figure(figsize=(10,3))\n",
    "plt.plot(dates,countsm, color='blue')\n",
    "plt.plot(dates,countsn, color='green')\n",
    "plt.plot(dates,countse, color='red')"
   ]
  },
  {
   "cell_type": "markdown",
   "metadata": {},
   "source": [
    "Make one list of counts for one week for one station. Monday's count, Tuesday's count, etc. so it's a list of 7 counts. Make the same list for another week, and another week, and another week. plt.plot(week_count_list) for every week_count_list you created this way. You should get a rainbow plot of weekly commute numbers on top of each other."
   ]
  },
  {
   "cell_type": "code",
   "execution_count": 55,
   "metadata": {
    "collapsed": false
   },
   "outputs": [
    {
     "data": {
      "text/plain": [
       "[<matplotlib.lines.Line2D at 0x1185f2fd0>]"
      ]
     },
     "execution_count": 55,
     "metadata": {},
     "output_type": "execute_result"
    },
    {
     "data": {
      "image/png": "[encoded data removed]",
      "text/plain": [
       "<matplotlib.figure.Figure at 0x111afb0d0>"
      ]
     },
     "metadata": {},
     "output_type": "display_data"
    }
   ],
   "source": [
    "dates=[1,2,3,4,5,6,7]\n",
    "\n",
    "counts1=station_count2list(station_count(aggregate_count(keep_station(keep_diff(fill_min_max(extend_d(load_turnstile_file('turnstile_141018.txt'))))))))\n",
    "\n",
    "counts2=station_count2list(station_count(aggregate_count(keep_station(keep_diff(fill_min_max(extend_d(load_turnstile_file('turnstile_150110.txt'))))))))\n",
    "\n",
    "counts3=station_count2list(station_count(aggregate_count(keep_station(keep_diff(fill_min_max(extend_d(load_turnstile_file('turnstile_141108.txt'))))))))\n",
    "\n",
    "counts4=station_count2list(station_count(aggregate_count(keep_station(keep_diff(fill_min_max(extend_d(load_turnstile_file('turnstile_141220.txt'))))))))\n",
    "\n",
    "plt.figure(figsize=(10,3))\n",
    "plt.plot(dates,counts1)\n",
    "plt.plot(dates,counts2)\n",
    "plt.plot(dates,counts3)\n",
    "plt.plot(dates,counts4)"
   ]
  },
  {
   "cell_type": "code",
   "execution_count": 56,
   "metadata": {
    "collapsed": false
   },
   "outputs": [
    {
     "data": {
      "text/plain": [
       "[<matplotlib.lines.Line2D at 0x115f301d0>]"
      ]
     },
     "execution_count": 56,
     "metadata": {},
     "output_type": "execute_result"
    },
    {
     "data": {
      "image/png": "[encoded data removed]",
      "text/plain": [
       "<matplotlib.figure.Figure at 0x11229b450>"
      ]
     },
     "metadata": {},
     "output_type": "display_data"
    }
   ],
   "source": [
    "dates=[1,2,3,4,5,6,7]\n",
    "\n",
    "counts1=station_count2list(station_count(aggregate_count(keep_station(keep_diff(fill_min_max(extend_d(load_turnstile_file('turnstile_141101.txt'))))))))\n",
    "\n",
    "counts2=station_count2list(station_count(aggregate_count(keep_station(keep_diff(fill_min_max(extend_d(load_turnstile_file('turnstile_141108.txt'))))))))\n",
    "\n",
    "counts3=station_count2list(station_count(aggregate_count(keep_station(keep_diff(fill_min_max(extend_d(load_turnstile_file('turnstile_141115.txt'))))))))\n",
    "\n",
    "counts4=station_count2list(station_count(aggregate_count(keep_station(keep_diff(fill_min_max(extend_d(load_turnstile_file('turnstile_141122.txt'))))))))\n",
    "\n",
    "plt.figure(figsize=(10,3))\n",
    "plt.plot(dates,counts1)\n",
    "plt.plot(dates,counts2)\n",
    "plt.plot(dates,counts3)\n",
    "plt.plot(dates,counts4)"
   ]
  },
  {
   "cell_type": "code",
   "execution_count": 57,
   "metadata": {
    "collapsed": false
   },
   "outputs": [],
   "source": [
    "d1= station_weekcount(aggregate_count(keep_station(keep_diff(fill_min_max(extend_d(load_turnstile_file('turnstile_141101.txt')))))))\n",
    "d2= station_weekcount(aggregate_count(keep_station(keep_diff(fill_min_max(extend_d(load_turnstile_file('turnstile_141108.txt')))))))\n",
    "d3= station_weekcount(aggregate_count(keep_station(keep_diff(fill_min_max(extend_d(load_turnstile_file('turnstile_141115.txt')))))))\n",
    "d4= station_weekcount(aggregate_count(keep_station(keep_diff(fill_min_max(extend_d(load_turnstile_file('turnstile_141122.txt')))))))"
   ]
  },
  {
   "cell_type": "markdown",
   "metadata": {},
   "source": [
    "Over multiple weeks, sum total ridership for each station and sort them, so you can find out the stations with the highest traffic during the time you investigate"
   ]
  },
  {
   "cell_type": "code",
   "execution_count": 58,
   "metadata": {
    "collapsed": false
   },
   "outputs": [
    {
     "name": "stdout",
     "output_type": "stream",
     "text": [
      "[('PATH WTC', 230104), ('W 4 ST-WASH SQ', 235950), ('145 ST', 236173), ('LEXINGTON-53 ST', 243107), ('GROVE STREET', 246475), ('77 ST', 250046), ('JAY ST-METROTEC', 253341), ('14 ST', 255697), ('JAMAICA CENTER', 256465), ('BARCLAYS CENTER', 271981), ('50 ST', 277749), ('WALL ST', 284185), ('ROOSEVELT AVE', 294613), ('72 ST', 304716), ('47-50 ST-ROCK', 316219), ('MAIN ST', 359698), ('59 ST', 366449), ('23 ST', 402759), ('CANAL ST', 411394), ('CHAMBERS ST', 414954), ('FULTON ST', 424654), ('59 ST-COLUMBUS', 424784), ('96 ST', 464841), ('125 ST', 507787), ('42 ST-TIMES SQ', 534275), ('42 ST-PA BUS TE', 572339), ('14 ST-UNION SQ', 646295), ('86 ST', 655437), ('34 ST-HERALD SQ', 678610), ('42 ST-GRD CNTRL', 833260), ('34 ST-PENN STA', 1026642)]\n"
     ]
    }
   ],
   "source": [
    "sorted_d1 = sorted(d1.items(), key=operator.itemgetter(1))\n",
    "print sorted_d1[350:]"
   ]
  },
  {
   "cell_type": "code",
   "execution_count": 59,
   "metadata": {
    "collapsed": false
   },
   "outputs": [
    {
     "name": "stdout",
     "output_type": "stream",
     "text": [
      "[('42 ST-BRYANT PK', 923064), ('CHURCH AVE', 926261), ('BOROUGH HALL/CT', 942163), ('145 ST', 961730), ('77 ST', 982905), ('JAMAICA CENTER', 1035962), ('LEXINGTON-53 ST', 1046754), ('14 ST', 1051173), ('JAY ST-METROTEC', 1063847), ('WALL ST', 1131397), ('BARCLAYS CENTER', 1132182), ('72 ST', 1196479), ('50 ST', 1199573), ('ROOSEVELT AVE', 1215277), ('47-50 ST-ROCK', 1380020), ('MAIN ST', 1474695), ('59 ST', 1572208), ('CANAL ST', 1588636), ('23 ST', 1616558), ('FULTON ST', 1670921), ('CHAMBERS ST', 1720315), ('59 ST-COLUMBUS', 1866056), ('96 ST', 1903673), ('125 ST', 2000267), ('42 ST-TIMES SQ', 2309378), ('42 ST-PA BUS TE', 2363820), ('14 ST-UNION SQ', 2403178), ('86 ST', 2742582), ('34 ST-HERALD SQ', 2962153), ('42 ST-GRD CNTRL', 3466958), ('34 ST-PENN STA', 4224665)]\n"
     ]
    }
   ],
   "source": [
    "d={}\n",
    "for x,y in d1.items():\n",
    "    d[x]=y+d2[x]+d3[x]+d4[x]\n",
    "    \n",
    "sorted_d = sorted(d.items(), key=operator.itemgetter(1))\n",
    "\n",
    "print sorted_d[350:]"
   ]
  },
  {
   "cell_type": "markdown",
   "metadata": {},
   "source": [
    "Make a single list of these total ridership values and plot it to get an idea about the distribution of total ridership among different stations. This should show you that most stations have a small traffic, and the histogram bins for large traffic volumes have small bars.\n",
    "\n",
    "Additional Hint: \n",
    "If you want to see which stations take the meat of the traffic, you can sort the total ridership counts and make a plt.bar graph. For this, you want to have two lists: the indices of each bar, and the values. The indices can just be 0,1,2,3,..."
   ]
  },
  {
   "cell_type": "code",
   "execution_count": 60,
   "metadata": {
    "collapsed": false
   },
   "outputs": [
    {
     "data": {
      "text/plain": [
       "(array([ 26.,  19.,  12.,   9.,   5.,   2.,   3.,   1.,   2.,   2.]),\n",
       " array([   12987. ,   124906.5,   236826. ,   348745.5,   460665. ,\n",
       "          572584.5,   684504. ,   796423.5,   908343. ,  1020262.5,\n",
       "         1132182. ]),\n",
       " <a list of 10 Patch objects>)"
      ]
     },
     "execution_count": 60,
     "metadata": {},
     "output_type": "execute_result"
    },
    {
     "data": {
      "image/png": "[encoded data removed]",
      "text/plain": [
       "<matplotlib.figure.Figure at 0x117043610>"
      ]
     },
     "metadata": {},
     "output_type": "display_data"
    }
   ],
   "source": [
    "total_ridership_counts = [x for y,x in d.items()]\n",
    "plt.figure(figsize=(10,3))\n",
    "plt.hist(total_ridership_counts[:-300])"
   ]
  },
  {
   "cell_type": "code",
   "execution_count": 61,
   "metadata": {
    "collapsed": false
   },
   "outputs": [
    {
     "data": {
      "text/plain": [
       "<Container object of 381 artists>"
      ]
     },
     "execution_count": 61,
     "metadata": {},
     "output_type": "execute_result"
    },
    {
     "data": {
      "image/png": "[encoded data removed]",
      "text/plain": [
       "<matplotlib.figure.Figure at 0x1164dac90>"
      ]
     },
     "metadata": {},
     "output_type": "display_data"
    }
   ],
   "source": [
    "total_ridership_values = sorted(total_ridership_counts, reverse=True)\n",
    "indices = range(len(total_ridership_values))\n",
    "plt.bar(indices, total_ridership_values)"
   ]
  }
 ],
 "metadata": {
  "kernelspec": {
   "display_name": "Python 2",
   "language": "python",
   "name": "python2"
  },
  "language_info": {
   "codemirror_mode": {
    "name": "ipython",
    "version": 2
   },
   "file_extension": ".py",
   "mimetype": "text/x-python",
   "name": "python",
   "nbconvert_exporter": "python",
   "pygments_lexer": "ipython2",
   "version": "2.7.6"
  }
 },
 "nbformat": 4,
 "nbformat_minor": 0
}
