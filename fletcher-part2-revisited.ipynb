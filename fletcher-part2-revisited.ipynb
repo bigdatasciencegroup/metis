{
 "cells": [
  {
   "cell_type": "code",
   "execution_count": 1,
   "metadata": {
    "collapsed": false
   },
   "outputs": [],
   "source": [
    "import numpy as np\n",
    "import pymongo\n",
    "\n",
    "client = pymongo.MongoClient()\n",
    "db = client['espace5']\n",
    "forum_messages = db['forumsbis']"
   ]
  },
  {
   "cell_type": "code",
   "execution_count": 2,
   "metadata": {
    "collapsed": false
   },
   "outputs": [],
   "source": [
    "from textblob import Blobber\n",
    "from textblob_fr import PatternTagger, PatternAnalyzer\n",
    "from nltk.tokenize import WordPunctTokenizer\n",
    "\n",
    "fr_textblob = Blobber(pos_tagger=PatternTagger(), analyzer=PatternAnalyzer(), tokenizer=WordPunctTokenizer())"
   ]
  },
  {
   "cell_type": "code",
   "execution_count": 3,
   "metadata": {
    "collapsed": false
   },
   "outputs": [
    {
     "name": "stdout",
     "output_type": "stream",
     "text": [
      "(0.08251793230515159, 0.27991056878286)\n"
     ]
    }
   ],
   "source": [
    "import re\n",
    "token_pattern = re.compile(r\"(?u)\\b\\w\\w+\\b\")\n",
    "\n",
    "all_text = \" \".join([message[\"text\"] for message in forum_messages.find()])\n",
    "all_text = fr_textblob(\" \".join(token_pattern.findall(all_text)))\n",
    "print all_text.sentiment"
   ]
  },
  {
   "cell_type": "code",
   "execution_count": 4,
   "metadata": {
    "collapsed": false
   },
   "outputs": [],
   "source": [
    "from nltk.stem.snowball import FrenchStemmer\n",
    "from nltk.corpus import stopwords\n",
    "\n",
    "stemmer = FrenchStemmer()\n",
    "\n",
    "stop = stopwords.words('french')\n",
    "stop += [\"http\", \"https\", \"renault\", \"espace\"]\n",
    "stop += ['les', 'a', 'plus', u'ça', 'ils', 'cette', 'car', 'de']"
   ]
  },
  {
   "cell_type": "code",
   "execution_count": 8,
   "metadata": {
    "collapsed": false
   },
   "outputs": [],
   "source": [
    "len_text_mini = 0\n",
    "\n",
    "raw_texts = []\n",
    "user_ids = []\n",
    "mdates = []\n",
    "forum_ids = []\n",
    "\n",
    "for message in forum_messages.find():\n",
    "    text = message[\"text\"]\n",
    "    text = text.replace(u'Reprise du message précédent :', \"\")\n",
    "    text = text.replace('  ', ' ').replace('\\t', ' ').replace('\\n', ' ').replace('\\r', ' ')\n",
    "    text = text.strip().lstrip(' ')\n",
    "    if len(text) > len_text_mini:\n",
    "        raw_texts.append(text)\n",
    "        user_ids.append(message[\"user\"])\n",
    "        mdates.append(message[\"date\"])\n",
    "        forum_ids.append(message[\"forum_id\"])\n",
    "        \n",
    "nbr_messages = len(raw_texts)\n",
    "\n",
    "texts_cleaned = [' '.join([token.lower() for token in token_pattern.findall(text) if token.lower() not in stop]) \\\n",
    "                 for text in raw_texts]\n",
    "\n",
    "texts_stemmed = [' '.join([stemmer.stem(token) for token in fr_textblob(text).tokens]) \\\n",
    "                 for text in texts_cleaned]\n",
    "\n",
    "texts_nouns = [' '.join([tag[0] for tag in fr_textblob(text).tags if tag[1] in [u'NN', u'NNS', u'NNP', u'VBN']]) \\\n",
    "               for text in texts_cleaned]"
   ]
  },
  {
   "cell_type": "markdown",
   "metadata": {},
   "source": [
    "###Agglomerative Clustering and PCA"
   ]
  },
  {
   "cell_type": "code",
   "execution_count": 9,
   "metadata": {
    "collapsed": false
   },
   "outputs": [],
   "source": [
    "from sklearn.feature_extraction.text import TfidfVectorizer\n",
    "from sklearn.cluster import AgglomerativeClustering\n",
    "from sklearn.decomposition import PCA"
   ]
  },
  {
   "cell_type": "code",
   "execution_count": 10,
   "metadata": {
    "collapsed": false
   },
   "outputs": [
    {
     "name": "stdout",
     "output_type": "stream",
     "text": [
      "(1062, 1171)\n"
     ]
    },
    {
     "name": "stderr",
     "output_type": "stream",
     "text": [
      "/usr/local/lib/python2.7/dist-packages/numpy/core/fromnumeric.py:2507: VisibleDeprecationWarning: `rank` is deprecated; use the `ndim` attribute or function instead. To find the rank of a matrix see `numpy.linalg.matrix_rank`.\n",
      "  VisibleDeprecationWarning)\n"
     ]
    }
   ],
   "source": [
    "st_word_vectorizer = TfidfVectorizer(ngram_range=(1, 3), strip_accents='unicode', norm='l2',\n",
    "                                     min_df=5, token_pattern=u'(?u)\\\\b\\\\w\\\\w+\\\\b')\n",
    "stemmed_text_vectors = st_word_vectorizer.fit_transform(texts_stemmed)\n",
    "print stemmed_text_vectors.shape"
   ]
  },
  {
   "cell_type": "code",
   "execution_count": 11,
   "metadata": {
    "collapsed": false
   },
   "outputs": [],
   "source": [
    "nbr_clusters = 12"
   ]
  },
  {
   "cell_type": "code",
   "execution_count": 12,
   "metadata": {
    "collapsed": false
   },
   "outputs": [
    {
     "data": {
      "text/plain": [
       "(1062, 227)"
      ]
     },
     "execution_count": 12,
     "metadata": {},
     "output_type": "execute_result"
    }
   ],
   "source": [
    "reducer = PCA(n_components=227)\n",
    "reduced_X = reducer.fit_transform(stemmed_text_vectors.toarray())\n",
    "reduced_X.shape"
   ]
  },
  {
   "cell_type": "code",
   "execution_count": 13,
   "metadata": {
    "collapsed": false
   },
   "outputs": [],
   "source": [
    "agcr = AgglomerativeClustering(linkage='average', affinity='cosine', n_clusters=nbr_clusters)\n",
    "Yagcr = agcr.fit_predict(reduced_X)\n",
    "\n",
    "d_agcr_clusters = {}\n",
    "for i in range(nbr_messages):\n",
    "    if Yagcr[i] not in d_agcr_clusters:\n",
    "        d_agcr_clusters[Yagcr[i]] = []\n",
    "    else:\n",
    "        d_agcr_clusters[Yagcr[i]].append(i)"
   ]
  },
  {
   "cell_type": "code",
   "execution_count": 14,
   "metadata": {
    "collapsed": false
   },
   "outputs": [
    {
     "name": "stdout",
     "output_type": "stream",
     "text": [
      "Cluster  0 : 247 similar statements\n",
      "Cluster  1 : 119 similar statements\n",
      "Cluster  2 : 104 similar statements\n",
      "Cluster  3 : 43 similar statements\n",
      "Cluster  4 : 54 similar statements\n",
      "Cluster  5 : 43 similar statements\n",
      "Cluster  6 : 35 similar statements\n",
      "Cluster  7 : 88 similar statements\n",
      "Cluster  8 : 69 similar statements\n",
      "Cluster  9 : 48 similar statements\n",
      "Cluster  10 : 88 similar statements\n",
      "Cluster  11 : 112 similar statements\n"
     ]
    }
   ],
   "source": [
    "for i in range(nbr_clusters):\n",
    "    print \"Cluster \", i, \":\", len(d_agcr_clusters[i]), 'similar statements'"
   ]
  },
  {
   "cell_type": "code",
   "execution_count": 15,
   "metadata": {
    "collapsed": false
   },
   "outputs": [
    {
     "name": "stdout",
     "output_type": "stream",
     "text": [
      "\n",
      "******** cluster:  0  with  247 similar statements\n",
      "Key words: MERCI POUCES TAXE ZEN CONTROL EUROS LOA PACK FRANCE INFO VILLE LLD INTENS OPTION QUELQU\n",
      "\n",
      ">>> Message date: 2015-03-26 (0.806)\n",
      "   non en France il y a un modele de plus nous on a une Zen , intens et initiale mais par exemple l'intens est moins chere chez nous mais avec moins d'options (pas de cuir par defaut) Mais la différence de modèle n'y fait rien sur les taxes que l'on doit payer sur les voitures, en Belgique il risque de vendre plus de 130 car il y a une différence de taxe de 744 euros entre le DCI130 et le DCI160 pour le meme moteur!. Y'a aussi des tucs idiots , par exemple l'ambiance de couleur intérieur disparait quand on prend la boite manuel , le bose en option n'est pas possible sur la version Zen il faut prendre l'intens ...\n",
      "\n",
      ">>> Message date: 2015-03-26 (0.807)\n",
      "   MEs sources j'etudie l'achat d'une nouvelle voiture , je vis en Belgique et donc j'ai le tableau des taxes par KW et par CV , j'hesitais a la prendre via mon employeur mais refusé car trop de rejet CO2 et donc j'etudie en tant que particulier ! Explication pour mettre une voiture sur la route ici en belgique en tant que particulier LA 130CV : 9CV 96kw Taxe de mise en circulation : 495 euros + Taxe de roulage 267.96 euros = Total 762.96 LA 160CV : 9CV 118Kw taxe de mise en circulation : 1239 euros + Taxe de roulage 267.96 euros = total 1506.96\n",
      "\n",
      ">>> Message date: 2015-03-26 (0.839)\n",
      "   J'adore cette voiture mais la ou il y a une erreur ce sont les moteurs , rejet de 123gr sur le 160DCI et 119gr sur le 130DCI cela donne une deduction fiscale de 75% car rejet trop elevé de plus la taxe de mise en circulation en Belgique pour la 160 est de 1239 euros + taxe de roulage 268 euros ce qui donne une taxe de 1500 euros pour la mettre sur la route pas sur qu'en Belgique les société soient intéressé D'ailleurs si on regarde le configurateur en France on ne peux avoir que la life en dci 130 en belgique on peut avoir l'intens ...\n",
      "---\n",
      "\n",
      "******** cluster:  1  with  119 similar statements\n",
      "Key words: RANG VOTE PLACE IV DM3 VOTES ÉMIS PICASSO C4 3ÈME PARIS DOUTES DÉPART FORME VU\n",
      "\n",
      ">>> Message date: 2015-04-06 (0.655)\n",
      "   SVP faudrait quand même arrêter d'avancer autant de bêtises .Une famille ne va pas se détourner de ce véhicule sachant qu'il représente ce qu'il se fais de mieux sur le segment. Biensur il a perdu en dm3 , il est un peu moins logeable mais il y à plus de place au jambes au 2ème rang , en avançant ce rang la , le 3ème rang se retrouve parfaitement habitable. Les strapontins seront plus adaptés a des enfants mais il faut savoir qu'une personne de 1,80 m passent . Il faut savoir surtout que majoritairement les places du 3ème rang sont vraiment d'appoint , la plupart ne s'en servent pas.\n",
      "\n",
      ">>> Message date: 2015-04-06 (0.680)\n",
      "   Je ne suis pas monté pour ma part au 3° rang mais mes 2 petits de 8 ans y ont pris place ... ils étaient enchantées. Une fois le 2° rang avancée ils ont de la place pour leurs jambes. Et il reste une place confortable pour les passagers du 2° rang. Il est possible que pour un adulte ou ado ... la place manque ! Mon ado de 15 ans m'a fait remarqué qu'il etait mieux assis (au 2° rang) dans le 5 que dans le 4 ... Ses cuisses dans le 5 sont a l'horizontale ... ce qui n'est pas dans le 4. Il y'a du pour et du contre dans ce nouvelle Espace! Chacun y trouvera son compte en bien ou mal !!!!\n",
      "\n",
      ">>> Message date: 2015-03-04 (0.686)\n",
      "   C'est aussi mon avis. De toute façon, en dehors du Voyager et des fourgons transformés (Trafic, Classe V, ...) , aucun monospace n'est vraiment fait pour 7 personnes avec bagages pour partir en vacances. Même avec un Gd Espace IV, à 7, il faut prévoir au mini un coffre de toit pour caser les bagages. lolodav a écrit : c'est bien ce que je pensais ! le IV long offrait \"tout juste\" la place nécessaire et sans compter avec un départ en vacances où le volume de coffre est plus que nécessaire  je ne manquerai pas tout de même à faire un petit essai, juste pour moi... après il faudra attendre que Renault fasse un véhicule pour les grandes familles et pas un fourgon comme le traffic Je pense que tu risques d'attendre longtemps. Ceci dit si Renault sort une version Passenger du Trafic, elle risque d'être pas mal.\n",
      "---\n",
      "\n",
      "******** cluster:  2  with  104 similar statements\n",
      "Key words: PLANCHE LIVRAISON GRIS BORD AVRIL VU FONCÉ SEMAINE FIN SEPTEMBRE PRESSE AFFICHAGE JUIN PHOTO BRUN\n",
      "\n",
      ">>> Message date: 2015-04-09 (0.513)\n",
      "   Suite à 3 essais qui mentionnait des reflets gênants et alors que je m’apprêtais à modifier ma commande, j'ai appelé un contact presse qui participait à des essais en bretagne en début de semaine qui en a discuté avec un des ingénieurs Renault sur Place. Il a pu le vérifier directement avec les essais d'une planche de bord gris lune et brun foncé. C'est aussi simple que ça, plus la planche est claire, plus elle renvoie la lumière. Le noir l'absorbe. ajouter à ça un pare-brise trés incliné ... et pas particulièrement traiter anti reflet intérieur. Ca reste léger mais effectivement, c'est bien présent tel que les essais le disent. J'ai pris une planche de bord brun foncé du coup.\n",
      "\n",
      ">>> Message date: 2015-03-17 (0.551)\n",
      "   Exactement ce que m'a dit le chef des ventes de l'atelier Renault ce matin (même date au jour prêt) mais ils ne sont pas a mettre au même niveau que les autres concessions. Un ami concessionnaire m'a indiqué qu'en fin de semaine, les délais affichés sur son logiciel ont explosé passant de mi juillet a fin septembre d'un cout. Probablement a cause des congés du mois d'aout. A priori, ça ne concernerait pas les commandes déjà passé. Aucun problème de production, uniquement un plan de charge tendu chez Renault. Les RDV des essais presses sont pris avec les rédactions, ils ont lieu a Nimes 7-8-9-10 avril avec les premiers véhicules de série sortie d'usine. Les concessions seront pas livré avant les derniers jours d'avril, probablement pas avant début mai pour la majorité.\n",
      "\n",
      ">>> Message date: 2015-03-11 (0.591)\n",
      "   Bonsoir, Commande passée ce jour d'une Initiale Tce 200 (en gris cassiopée, sellerie camaieux gris, planche de bord gris lune et console initiale) avec les différentes options dispo (dont attelage escamotable pour le porte-vélos, le fait qu'il soit escamotable ayant été décisif dans mon choix) à l'exception du pack famille (DVD) qui ne sera pas commercialisé avant mi-avril et dont je n'avais plus vraiment l'utilité, mes (grands) enfants ne les utilisant plus dans mon Espace IV actuel. Aucune info à ce stade sur la date de livraison car commande passée via un loueur (c'est une voiture de fonction). Emmanuel\n",
      "---\n",
      "\n",
      "******** cluster:  3  with  43 similar statements\n",
      "Key words: OPTION SECOURS ROUE PILOTÉ OPTIONS ESSAI COMPORTEMENT 4C CONFORT RESERVOIR REVENTE PILOTÉE PRIS SUSPENSION ROUES\n",
      "\n",
      ">>> Message date: 2015-03-29 (0.617)\n",
      "   Non c'est je dois être trop con.  . Alors maintenant je te dirais qu'ils sont trop fort alors les constructeur pour gagner de poid sur une roué de secours qui n'est déja plus pris en compte sur le poids du véhicule. Chez Renault elles sont toutes en options donc pas pris en compte. Le reservoir on peux encore gagné quelques kilos et encore. Donc je continue à dire que ton commentaire n'est pas viable. Je travail chez Renault donc je sais de quoi je parle et tu peux être certaint qu'il n'y à rien d'artificiel dans cette chasse à la reduction du poids.\n",
      "\n",
      ">>> Message date: 2015-04-07 (0.640)\n",
      "   fontionnement amoertisseur piloté Il permet de passer du confort d'une limousine à l'agilité d'un coupé sport. L'amortisseur est un élément essentiel de la suspension. Privée d'amortisseurs, une voiture, parce qu'elle est montée sur des ressorts, rebondirait indéfiniment sur la route. L'amortisseur est en effet un frein hydraulique chargé de ralentir le débattement des roues. Et lorsque ses réglages sont fixes, ils représentent forcément un compromis entre la fermeté nécessaire à la tenue de route et la souplesse indispensable à un bon confort. L'amortissement piloté a été conçu pour dépasser ce compromis en s'adaptant aux circonstances. Il est ainsi capable de faire varier, en temps réel, le contrôle des débattements de roue en fonction de la ­vitesse du véhicule, du profil de la route ou du style de conduite. Les amplitudes seront ainsi peu bridées en ligne droite, à allure stabilisée. ­Elles le seront davantage en virage, au freinage ou à l'accélération. L'idée générale est de préserver le confort tout en conservant une assiette la plus constante possible. Il s'agit ici d'optimiser le travail des pneumatiques et, par là même, la qualité du comportement. Un amortissement piloté autorise en outre différents modes de fonctionnement pour accorder les réactions de l'automobile aux goûts et à l'humeur de son conducteur. En position normale, le confort et la stabilité deviennent les objectifs prio­­ritaires du système. En « sport », c'est la réactivité du comportement qui est privilégiée, quitte à dégrader le confort. Développé dans les années 1980, l'amortissement piloté plutôt élitiste tend à se généraliser maintenant sur les automobiles haut de gamme. Et certaines marques commencent à le proposer en option sur leurs berlines compactes de grande diffusion, comme Volkswagen avec la Golf.\n",
      "\n",
      ">>> Message date: 2015-04-03 (0.641)\n",
      "   En tout cas, l'essai du Point confirme bien que personne n'a pu essayer des Espace V sans le 4C et que tous ceux qui ont affirmé que le 4C est une option obligatoire ne doivent pas savoir que le journalisme implique (toute info doit être vérifiée). Bref : - le 4C = très bien - sans le 4 C = ???? \"La frustration est que Renault ne nous a pas permis d'essayer cette version à boîte mécanique, mais que des haut de gamme Intens et Initiale (niveaux 3 et 4) rassemblant les équipements décrits plus haut, à boîtes robotisées, tous munis de l'option amortissement piloté et 4 roues directrices (facturée 1 700 euros sur Intens). Nos remarques ne valent donc que pour eux\"\n",
      "---\n",
      "\n",
      "******** cluster:  4  with  54 similar statements\n",
      "Key words: ANS GARANTIE INSONORISATION REMISE EXTENSION AVIS TWINGO LIGNES PARTENAIRE REMISES FÉLICITATIONS PORTES CLIO GARANTI JUIN\n",
      "\n",
      ">>> Message date: 2015-04-08 (0.504)\n",
      "   Pas communiqué? c'est une façon de le voir. Moi je l'ai vu partout dans la presse et dans autoMoto/Turbo ... Les formations des concessionnaires sont terminés. A aucun moment Renault a dit que c'était garantie 5 ans. Le directeur de l'atelier Renault m'a dit qu'ils étaient les seuls avec les collaborateurs a en disposer. Pour la clio 4, la garantie 5 ans a été annoncé au moment des tarifs (même communiqué de presse). Ca été un argument fort, bien avant la mise en vente. Le dossier de presse final de l'espace V sortie le 26 mars fait 32 pages .. et pas de garantie 5 ans. Si je me trompe, j'en serai le premier content !\n",
      "\n",
      ">>> Message date: 2015-03-31 (0.717)\n",
      "   Mandataire qui a un peu + d'1 an d'existence (cf n° de siret), qui annonce des remises improbables, et qui arrive à avoir des avis datés de 2011 alors qu'ils n'existaient pas encore et même des avis de 12/2015 !!!! Visiblement pour faire des faux avis, ils s'emmerdent même plus ils écrivent \"bien\" ou \"parfait\" .... Ils parlent d'un groupe avec une multitude de filiales .... et la caisse d'épargne comme partenaire (ils pourraient mettre n'importe qui, partenaire ça veut pas dire gd chose). Bref, c'est super louche.\n",
      "\n",
      ">>> Message date: 2015-03-31 (0.717)\n",
      "   Mandataire qui a un peu + d'1 an d'existence (cf n° de siret), qui annonce des remises improbables, et qui arrive à avoir des avis datés de 2011 alors qu'ils n'existaient pas encore et même des avis de 12/2015 !!!! Visiblement pour faire des faux avis, ils s'emmerdent même plus ils écrivent \"bien\" ou \"parfait\" .... Ils parlent d'un groupe avec une multitude de filiales .... et la caisse d'épargne comme partenaire (ils pourraient mettre n'importe qui, partenaire ça veut pas dire gd chose). Bref, c'est super louche.\n",
      "---\n",
      "\n",
      "******** cluster:  5  with  43 similar statements\n",
      "Key words: FREIN LEVIER VITESSE SÉQUENTIEL PARKING BLOCAGE MAIN QUESTION VITESSES FREINS PALETTES BOUT CHUTE PANNAUX MEGANE\n",
      "\n",
      ">>> Message date: 2015-04-04 (0.492)\n",
      "   Dans ce cas, juste avant de doubler, il suffit de lui filer un petit coup d'accélérateur sec (sans accélérer/prendre de vitesse) et la vitesse descend, ... une sorte de commande séquentielle au pied (ça marchait sur ma LC V6 BVA et ma C4RS) et elle va rester qques sec avant de reprendre le rapport normal ! C'est aussi utile en descente de montagne (cette fois ci pour vraiment verrouiller la vitesse). Au global, mais c'est quand même pas souvent, en clair on peut s'en passer, alors que certains (qui ne l'utiliseront pas plus) disent \"j'espère qu'elle est séquentielle\". Finalement c'est plus pour raconter aux copains \"moi je l'ai\" qui véritable utilité alexandr- a écrit : Moi pour soulager les freins aussi ou pas freiner. Moi j'anticipe  !\n",
      "\n",
      ">>> Message date: 2015-04-11 (0.555)\n",
      "   C'est pas parce que c'est une double embrayage qu'il n'y a pas de blocage de la boite.      Sur celle de l'espace je ne sais pas mais j'ai une EDC 6 sur le scénic et il y a un blocage physique de la boite en P comme n'importe quelle boite auto, je peux me mettre en boite P mais sans le frein de parking (soit moteur allumé, soit en mettant la carte dans le lecteur et en enlevant le frein de parking on l'entend) et la voiture reste bloquée avec la boite.      Ca permet de pas retrouver sa voiture plantée en bas d'une pente en cas de panne ou mauvais fonctionnement du frein de parking électrique.      Il est donc possible que le bouton P sur l'espace commande le frein de parking et aussi active le blocage de boite de façon électrique quand la vitesse est nulle (pour pas casser le téton de blocage), pure spéculation car j'en sais rien mais niveau sécurité je serais étonné qu'ils aient supprimé totalement le blocage de boite, mais je peux me tromper...\n",
      "\n",
      ">>> Message date: 2015-04-12 (0.627)\n",
      "   Je pense que c'est du au fait que ce soit un levier \"by wire\" et non pas physique. J'ai ça sur la Leaf et pareil sur mon ancienne Prius : L'avantage, pas besoin de modifier la position du levier (ie mettre en P) avant d'arreter la voiture : Il suffit simplement d'appuyer sur le bouton start/stop et elle se mettent en P toute seule (et avec le frein automatique).   De fait, peut etre qu'avec l'Espace il met le frein ŕ main et la voiture en prise en meme temps ?   Peut etre aussi le bouton P est caché au bout du levier ou sous celui-ci ?\n",
      "---\n",
      "\n",
      "******** cluster:  6  with  35 similar statements\n",
      "Key words: PROPOS CELÀ SURFACE ESSAI REFLET TDB CAS CARADISIAC CHÈQUE CX MARRON DIT DÉÇU JEEP ÉTIQUETTES\n",
      "\n",
      ">>> Message date: 2015-04-03 (0.676)\n",
      "   Alors si je suis ton raisonnement, cela voudrait dire que les critiques des autres journalistes ne seraient pas sincères et fossés puisque soudoyé par de l'argent (dixit tes propos) et donc que seul les critiques de Caradisiac seraient dans ce cas recevables .... Dans ce cas pourquoi dire que l'essai de Caradisiac est.....moche .....en effet eux non pas reçu de chèque et non pas été achetés (dixit tes propos................) Après si vous vous préférez des avis volontairement positifs parce qu'ils ont eu un chèque ......celà vous regarde .....\n",
      "---\n",
      "\n",
      "******** cluster:  7  with  88 similar statements\n",
      "Key words: WWW FR MOTO ESSAI HTML COM YOUTUBE WATCH AUTO ACTUALITE LARGUS VIDÉO PHOTOS ARGUS VIDEO\n",
      "\n",
      ">>> Message date: 2015-04-04 (0.720)\n",
      "   Depuis quelques jours, pas mal de test pays bas / allemagne du renault espace. Globalement, ils sont assez d'accord avec la presse francaise. Tous disent que le DCI160 fait le job mais c'est un peu poussif alors que le TCE200 est plus adapté mais consomme beaucoup. Certains tests vidéos sont vraiment mieux fait que les pauvres essais vidéo de 3min qu'on a en france ... https://www.youtube.com/watch?​v=W66PIcZdX5s Beaucoup (beaucoup) de critique sur le RLink-2 cependant qu'on retrouvait pas en france.\n",
      "\n",
      ">>> Message date: 2015-04-04 (0.728)\n",
      "   L'argus publie un Zoom concernant le Multi-sense, toujours sur le DCI160 qu'ils ont déja essayé. http://www.largus.fr/actualite​ [...] 94407.html C'est marrant a lire parce que finalement, largus a tapé sur le DCI160 \"moteur mou, manquant de nerf, etc. etc.\" puis finalement, avec le zoom, ils expliquent que le comportement change du tout au tout. Completement mou en Eco, bof en confort, sympa en neutre et carrément agréable en sport ... A ce demander si les journalistes qui qualifie les moteurs ont bien pris la mesure de ce système. Ca peut pas se faire en 15 minutes.\n",
      "\n",
      ">>> Message date: 2015-03-30 (0.791)\n",
      "   Il est annoncé pour la remplaçante de Laguna3. L essai d auto moto est peu réjouissant pour les perfs du dCi 160 : - est ce la longueur des rapports qui plombent les reprises ? Curieux que l EDC ne comble pas cela. - est ce le côté dynamique du châssis qui fait qu on en attend plus niveau moteur ? Faisons aussi attention aux impressions des essayeurs. Je lisais un essai du XC90 en D5 225 CV qui passe sous les 8 secondes sur le 0 à 100 : l essayeur le trouve mou... Sur ces gros véhicules il faut de grosses puissances pour donner des sensations.\n",
      "---\n",
      "\n",
      "******** cluster:  8  with  69 similar statements\n",
      "Key words: TURBO CA BESOIN CHAPATTE BRUIT TRČS PHARES MEME DCI LAVES TWIN ALLEMANDS ÂGE IMPRESSION ESSAI\n",
      "\n",
      ">>> Message date: 2015-03-31 (0.718)\n",
      "   Je veux bien croire que le 160 soit léger...      Combien pese le bestiaux? On parle quand meme d'un véhicule HDG ŕ 40/50k... Le modele presse se doit d'ętre favorable, le 160 a mon humble a vis c'est le moteur cible, mais pas une vitrine...      Mon test de la C5 en 110ch me fais dire que pour une familiale c'est tout jsute suffisant, mais si j'avais ŕ donner un avis en me basant que la dessus je dirais que la C5 est un veau...      L'autre soucis viens aussi de la boite... Si la boite est trčs souple et linéaire, t'as beau faire un 0-100km/h en 8sec t'aura quand meme l'impression qu'elle traine la patte.      Mon beauf a une leon cupra de 240ch, j'ai testé la meg RS 265ch (et de fait la 250 puisque les 15ch ne sont pas actif en permanence) et bien la meg est carrément plus racicale parcequ'elle fait un plus gros bruit, que la boite est pluys courte et donc tu grimpe vite dans les tours etc... Mais en vrai, avec ma conduite et mes capacité je suis sur qu'avec les 2 je me retrouve avec des perf comparables.      la sensation de puissante et de vitesse n'est pas toujours lié aux nombre de cylindres / turbo / cheveaux mais bien au mélange de tout ça !      Et claireent l'espace ayant existé en version 175ch avec le 2.0dCi je me serais attendu a retrouver au minimum la meme puissance...\n",
      "\n",
      ">>> Message date: 2015-04-05 (0.771)\n",
      "   Je viens de regarder \"l'essai\" de l'Espace V dans Turbo. J'ai l'impression que le père Chapatte a un peu la haine depuis qu'on lui a collé dans les pattes un \"petit jeune\" qui s'y connait d'ailleurs mieux en bagnole que lui... Ceci dit ça ressemblait à tout sauf à un vrai essai... Moi j'en retiens la ligne sympa du véhicule et je le trouve particulièrement sympa dans cette couleur noir améthyste. En revanche je ne suis pas fan du tout du dégradé de gris des sièges, je les prendrais donc plutôt en brun foncé. Le vrai essai c'est celui que j'irai bientôt faire en concession en Intitiale 160 DCI boite auto. L'avis de Chapatte je m'en cogne le coquillard\n",
      "\n",
      ">>> Message date: 2015-04-10 (0.833)\n",
      "   Audi A5 3.0 TDI Ambition Luxe noire de 4 ans, revendue en parfait état avec 140 000 km ..... elle est partie à cote Argus -20% et 8 mois pour la vendre ... Pourtant, c'est pas logique, elle était belle et bien équipée. Car attention une allemande de base c'est invendable donc bouillon assuré. Essaye de vendre une Mercedes Classe E sans le cuir .... Et y en a de plus en plus, la concurrence commence à faire rage en occasion. L'age d'or de l'occasion allemande est bel et bien révolue, sauf à prendre un leasing dont les valeurs de reprises sont encore assez ouvent sur estimées (avec passage par la case provision pour dépréciation du stocks chez les constructeurs allemands)\n",
      "---\n",
      "\n",
      "******** cluster:  9  with  48 similar statements\n",
      "Key words: MONDE HAUTEUR ÉCRIT DEMARRE VÉHICULE CONSOMMATIONS ESPRIT PRÉCÉDENTS PEUR CONSO TCE CARA CHÈQUE FOND PROBLČME\n",
      "\n",
      ">>> Message date: 2015-04-04 (0.650)\n",
      "   kevinvdl a écrit : les pauvres, ils trouvent la voiture peu convinquante en prise de roulis en mode normal et une direction trop simulante en monde confort Erik123 a écrit : Pas assez de place au 3ième rang mais enfin des sièges qui ce replient dans le sol...et oui, il faut faire des choix dans la vie...... Muang a écrit : l essaie de Cara est vraiment moche dans la critique. on a l'impression qu'ils ont pas eu un chèque assez conséquent... Habituellement je trouve leurs essais plutôt juste, mais ils cherchent la critique pour la critiquer. Ils disent que c'est pas bien sur certains points (à priori ce sont les seuls) mais qu'on a la solution pour que ce soit bien (alors ??? y a pas de sujet ?) Sinon ils mettent la radio à fond, écrivent qu'elle a un défaut : le son est trop fort .... mais qu'il existe un bouton pour baisser le volume ....\n",
      "\n",
      ">>> Message date: 2015-04-02 (0.789)\n",
      "   Nouvel essai TCE200 IP http://www.actu-automobile.com​ [...] dinitiale/ Toujours les mêmes conclusions ! Nous n’avons pas aimé : -Reprises moyennes du TCE 200 -Sensation d’espace en baisse -Autonomie limitée : réservoir de 58 L seulement Quand même, sur un douzaine de journaliste, je sais pas s'il se concerte en fin d'essai pour avoir tous le même avis mais ils sont sacrément d'accord entre eux ! Pas un seul n'a pas mis les moteurs comme point négatifs, qualifiant a l'unanimité le DCI160 de trés juste/mou et le TCE200 de moyen. J'imagine même pas ce qu'ils penseront du DCI130 ...\n",
      "\n",
      ">>> Message date: 2015-03-06 (0.908)\n",
      "   Je n'ai pas critiqué le Cx..; ni les prouesses de la dépollution du dernier moteur.    je critique l'habitabilité du 5 qui n'a rien ŕ voir avec les 4 précédents.       Je ne critique pas le travail fait sur ce véhicule, qui est réussi, j'indique juste qu'il n'aurait pas du porter le nom\"Espace\". Car ça n'est pas un Espace dans la lignée des précédents.      Renault aurait pu annoncer l'arręt de l'Espace, et la sortie d'un nouveau véhicule, innovant, classe, avec beaucoup d'atouts.          C'est le problčme qu'on certains proprio d'espace 4... en plus du vol des sičges. (mais c'est un autre problčme).\n",
      "---\n",
      "\n",
      "******** cluster:  10  with  88 similar statements\n",
      "Key words: GAMME AUTO HUI AUJOURD PREMIUM ETRE JOURNALISTES PRIX QUALITE MERCEDES INTERIEUR INTÉRIEUR TOP CHOIX EUROS\n",
      "\n",
      ">>> Message date: 2015-04-10 (0.516)\n",
      "   Par moment Renault mérite des baffes. La réputation de Renault est mauvaise, faut pas se leurrer, et même s'ils n'ont plus grand chose à se reprocher (fiabilité au top, bons produits, ...) ils vont la traîner encore longtemps. Alors aujourd'hui, il faut faire des bons produits et les vendre .... pas embaucher des gens du marketing qui ne comprennent rien et essayent de justifier leur salaire avec les idées des autres. Aston Martin peut se le permettre avec One-77 ... pas Renault ou alors pour faire rire car je pense que la plupart des gens qui voient une auto bachée veulent savoir quel bolide se cache dessous. Si la réponse est \"une Renault\" .... je pense qu'ils vont bien se bidonner et aller voir ailleurs, alors que s'il était visible, ils seraient peut être monté dedans et pourquoi pas être surpris de la qualité à laquelle ils ne s'attendent pas ?\n",
      "\n",
      ">>> Message date: 2015-03-31 (0.598)\n",
      "   Et bien alors ils sont pas sortis de l'auberge alors car si les performances sont mauvaises et la finition est aussi visée, quel mauvaise pub auprès d'une clientèle qui pouvait être intéressé et surtout pour ceux qui ne l'était pas et qui vont continuer a dire que Renault ne sait pas faire d'auto haut de gamme. Sans oublier que Renault a fanfaronné au sujet de la qualité grâce a l'aide d'Infiniti et Mercedes , et que l'auto a été repoussé de 6 mois supplémentaires pour être parfaite. Maintenant comment ces fameux journalistes peuvent affirmer que la finition n'est pas d'un bon niveau sachant que quelque mois auparavant ils ont dis le contraire.Sans oublier que nous sommes sur un haut de gamme généraliste et donc in prix assez serré , on est pas sur un prix de 80 000 euros comme un Volvo par ex.\n",
      "\n",
      ">>> Message date: 2015-03-31 (0.632)\n",
      "   Franchement je suis hyper déçu de voir que Renault n'a toujours pas appris de ses erreurs passés. Un produit doit être bon dans tous les domaines, surtout dans un produit haut de gamme. Je ne comprends pas le choix de mettre une EDC 6 rapports de Getrag si elle n'est pas assez réactive avec ce DCI 160 ch . Ils ne s'en sont pas aperçu lors de la mise au point que le véhicule (chargé et avec 7 personnes a l'intérieur ) serait a la ramasse, pourtant ils ont eu des années pour rectifier la chose. Quel sera donc le plan B?? Mettre la boite a 6 rapports (manuelle), ou encore la boite auto a 9 rapports dont on avait entendu parlé?? C'est vraiment pas bon pour l'auto surtout lors d'un lancement et des articles qui vont être écris, on dirait que Renault s'amuse a chaque fois a se tirer une balle dans le pieds, comme s'il fesait exprès de ne pas vouloir vendre et réussir dans le haut de gamme. On va attendre des essais plus poussés et chronométré afin de voir exactement ou se situe cette auto par rapport a l'ancienne.\n",
      "---\n",
      "\n",
      "******** cluster:  11  with  112 similar statements\n",
      "Key words: DCI CH ESSENCE MOTEUR DIESEL KG KM TDI BVA NIVEAU VOITURE MODE SPORT RAPPORT PERFORMANCES\n",
      "\n",
      ">>> Message date: 2015-03-31 (0.500)\n",
      "   Le poids est connu : essence : 1609 kg (tCe 200 EDC) diesel : entre 1622 kg (dCi 130) et 1659 kg (dCi 160 EDC) à vide en ordre de marche quand le IV : essence : entre 1755 kg (2.0T 165 BVA) et 1815 kg (3.5 V6) diesel : entre 1757 kg (2.0 dCi 130) et 1815 kg (dCi 175 BVA) Ça fait donc en moyenne entre 150 et 200 kg de gagné sur le IV. Honnêtement, tu t’énerves tout seul et tu as l'air d'être convaincu qu'il ne fait pas le job sans l'avoir essayé ? Les chiffres (connus) sont meilleurs sur le dCi 160 que sur l'ancien dCi 175 qui satisfaisait les clients. Je pense qu'il vaut mieux attendre d'avoir l'avis d'un proprio d'un IV 175ch actuel et connaître son ressenti plutôt que des journaleux qui sortaient peut être d'une séance d'essai AMG et qui vont tout trouver mou ?\n",
      "\n",
      ">>> Message date: 2015-04-03 (0.504)\n",
      "   Bon allez, dernier test que je mets : http://www.autodeclics.com/ren​ [...] paris.html Ils disent globalement tous pareil de tout façon ! \"Pour animer le nouvel Espace, Renault a retenu le bloc DCi 160 Energy, disponible aussi à 130 ch pour les flottes d'entreprises désireuses de limiter les pénalités environnementales (puissance fiscale réduite de 8 à 7 cv). La version la plus puissante nous a toutefois semblé être un minimum pour conserver de la tonicité à bas régime même si le nouvel Espace est quoi qu'il en soit plus à l'aise ici car allégé de 250 Kg à finitions comparables. La boîte automatique à double embrayages fait son apparition sur l'Espace (privilégier cette dernière dégage aussi un espace de rangement supplémentaire sous la commande) et mériterait un peu plus de réactivité sur les deux premiers rapports. Il ne faut donc pas hésiter à utiliser toute la course de la pédale d’accélérateur pour mieux lui faire comprendre nos intentions. Quant à l'offre essence, le bloc TCe 200 ch est particulièrement bien équilibrée, tonique mais forcement plus gourmand (10 l/100 km constatés sur notre parcours relativement consommateur contre 7 l/100 km pour le Diesel). \"\n",
      "\n",
      ">>> Message date: 2015-03-31 (0.527)\n",
      "   Sauf que le nouveau est beaucoup plus léger, ils parlent de 1650kg pour le 1.6dCi 160 dans l'essai, ŕ comparer au 1750 pour le IV en 2.0T essence.      Le 2.0 dCi 175 BVA en espace court c'est 1930kg         Un petit comparatif entre le IV dCi 175 BVA et le V 1.6 dCi 160 EDC :       Puissance : 175 - 160   Couple : 360 - 380   Poids : 1929 - 1659   RPP en kg/ch : 11.02 - 10.37   CO2 : 169 - 123      Franchement, rien ne remplace un essai, mais en voyant ces chiffres j'ai du mal ŕ croire que l'espace V dCi 160 fasse moins bien que le IV en dCi 175\n",
      "---\n"
     ]
    }
   ],
   "source": [
    "from sklearn.metrics import pairwise_distances\n",
    "\n",
    "agcr_cluster_nouns_sentences = [\" \".join([texts_nouns[r] for r in d_agcr_clusters[i]]) for i in range(nbr_clusters)]\n",
    "agcr_cluster_noun_vectorizer = TfidfVectorizer()\n",
    "agcr_cluster_nouns_vectors = agcr_cluster_noun_vectorizer.fit_transform(agcr_cluster_nouns_sentences)\n",
    "    \n",
    "for i in range(nbr_clusters):\n",
    "    r = agcr_cluster_nouns_vectors.getrow(i)\n",
    "    n = len(r.indices)\n",
    "    s = zip(np.array(agcr_cluster_noun_vectorizer.get_feature_names())[r.indices], r.data)\n",
    "    sorted_s = sorted(s, key=lambda item: item[1], reverse=True)\n",
    "    print \"\\n******** cluster: \", i, \" with \", len(d_agcr_clusters[i]), 'similar statements'\n",
    "    print \"Key words: \"+\" \".join([sorted_s[x][0].upper() for x in range(n)][:15])\n",
    "\n",
    "    cluster_center = np.mean(reducer.transform(stemmed_text_vectors[d_agcr_clusters[i]].toarray()), axis=0)\n",
    "    dist2center = []\n",
    "    for j in d_agcr_clusters[i]:\n",
    "        dist2center.append(pairwise_distances(cluster_center, reducer.transform(stemmed_text_vectors[j].toarray()), metric='cosine')[0][0])\n",
    "    s = zip([str(mdates[r])[:10] for r in d_agcr_clusters[i]], dist2center, [raw_texts[r] for r in d_agcr_clusters[i]])\n",
    "    sorted_s = sorted(s, key=lambda item: item[1])\n",
    "    count_print = 0\n",
    "    for m in sorted_s:\n",
    "        if len(m[2])>500 and len(m[2])<7500:\n",
    "            print \"\\n>>> Message date: %10s (%.3f)\\n   %15s\" % m\n",
    "            count_print += 1\n",
    "            if count_print == 3:\n",
    "                break\n",
    "    print '---'"
   ]
  },
  {
   "cell_type": "markdown",
   "metadata": {},
   "source": [
    "###Gensim"
   ]
  },
  {
   "cell_type": "code",
   "execution_count": 16,
   "metadata": {
    "collapsed": false
   },
   "outputs": [],
   "source": [
    "from gensim import corpora, models, similarities, matutils \n",
    "from gensim.models import LdaModel"
   ]
  },
  {
   "cell_type": "code",
   "execution_count": 17,
   "metadata": {
    "collapsed": false
   },
   "outputs": [],
   "source": [
    "documents = texts_stemmed\n",
    "texts = [document.split() for document in documents]\n",
    "bigrams = [ [\" \".join((u,v)) for (u,v) in zip(text[:-1], text[1:])] for text in texts]\n",
    "trigrams = [ [\" \".join((u,v,w)) for (u,v,w) in zip(text[:-1], text[1:], text[2:])] for text in texts]\n",
    "\n",
    "texts = [ u+v+w for (u,v,w) in zip(texts, bigrams, trigrams) ]"
   ]
  },
  {
   "cell_type": "code",
   "execution_count": 18,
   "metadata": {
    "collapsed": false
   },
   "outputs": [],
   "source": [
    "all_tokens = sum(texts, [])\n",
    "tokens_5 = set(word for word in set(all_tokens) if all_tokens.count(word) < 5)\n",
    "dtexts = [[word for word in text if word not in tokens_5] for text in texts]\n",
    "\n",
    "dictionary = corpora.Dictionary(dtexts)"
   ]
  },
  {
   "cell_type": "code",
   "execution_count": 19,
   "metadata": {
    "collapsed": false
   },
   "outputs": [],
   "source": [
    "corpus = [dictionary.doc2bow(text) for text in texts]"
   ]
  },
  {
   "cell_type": "code",
   "execution_count": null,
   "metadata": {
    "collapsed": false
   },
   "outputs": [],
   "source": [
    "tfidf = models.TfidfModel(corpus, id2word=dictionary)\n",
    "tfidfcorpus = tfidf[corpus]"
   ]
  },
  {
   "cell_type": "code",
   "execution_count": null,
   "metadata": {
    "collapsed": false
   },
   "outputs": [],
   "source": [
    "tlda = LdaModel(tfidfcorpus, num_topics=nbr_clusters, id2word=dictionary, update_every=0, passes=100)"
   ]
  },
  {
   "cell_type": "code",
   "execution_count": null,
   "metadata": {
    "collapsed": false
   },
   "outputs": [],
   "source": [
    "reduced_X = matutils.corpus2dense(tlda[tfidfcorpus], nbr_clusters).T"
   ]
  },
  {
   "cell_type": "code",
   "execution_count": null,
   "metadata": {
    "collapsed": false
   },
   "outputs": [],
   "source": [
    "from sklearn.cluster import AgglomerativeClustering\n",
    "agcr = AgglomerativeClustering(linkage='average', affinity='cosine', n_clusters=nbr_clusters)\n",
    "Yagcr = agcr.fit_predict(reduced_X)\n",
    "\n",
    "d_agcr_clusters = {}\n",
    "for i in range(nbr_messages):\n",
    "    if Yagcr[i] not in d_agcr_clusters:\n",
    "        d_agcr_clusters[Yagcr[i]] = []\n",
    "    else:\n",
    "        d_agcr_clusters[Yagcr[i]].append(i)"
   ]
  },
  {
   "cell_type": "code",
   "execution_count": 31,
   "metadata": {
    "collapsed": false
   },
   "outputs": [
    {
     "name": "stdout",
     "output_type": "stream",
     "text": [
      "Cluster  0 : 179 similar statements\n",
      "Cluster  1 : 41 similar statements\n",
      "Cluster  2 : 82 similar statements\n",
      "Cluster  3 : 48 similar statements\n",
      "Cluster  4 : 109 similar statements\n",
      "Cluster  5 : 119 similar statements\n",
      "Cluster  6 : 63 similar statements\n",
      "Cluster  7 : 47 similar statements\n",
      "Cluster  8 : 90 similar statements\n",
      "Cluster  9 : 84 similar statements\n",
      "Cluster  10 : 144 similar statements\n",
      "Cluster  11 : 44 similar statements\n"
     ]
    }
   ],
   "source": [
    "for i in range(nbr_clusters):\n",
    "    print \"Cluster \", i, \":\", len(d_agcr_clusters[i]), 'similar statements'"
   ]
  },
  {
   "cell_type": "code",
   "execution_count": 32,
   "metadata": {
    "collapsed": false
   },
   "outputs": [
    {
     "name": "stdout",
     "output_type": "stream",
     "text": [
      "\n",
      "******** cluster:  0  with  179 similar statements\n",
      "Key words: VOTE GAMME FONCÉ TAXE VÉHICULE ĘTRE PRIX LIVRAISON MISE CONCESSION COULEUR DESIGN PLACE EUROS PLACES\n",
      "\n",
      ">>> Message date: 2015-03-17 (0.021)\n",
      "   J'ai demandé à mon agence ce tantôt pour une simulation d'Initiale, que ce soit essence ou diesel nous sommes à fin Juillet en délai de livraison, le 29 exactement. Pour ceux que ça intéressera (je ne vais pas la poster pour avoir des réflexions, à me demander en MP) j'ai la documentation complète avec les références et les tarifs des accessoires (l'attelage en fait partie), comme quoi tous les collaborateurs ne sont pas à mettre au même rang, pour ceux qui les aiment pas.\n",
      "---\n",
      "\n",
      "******** cluster:  1  with  41 similar statements\n",
      "Key words: BORD PLANCHE GRIS LUNE BRUN PHOTO TABLEAU SELLERIE ZOE REFLETS REFLET CASSIOPÉE FONÇÉ INAUGURATION ULLPDF\n",
      "\n",
      ">>> Message date: 2015-04-10 (0.139)\n",
      "   D'ailleurs je peux confirmer la garantie 5 ans jusqu'en septembre, c'est réel et pour tout le monde. De même que les reflets lié au gris lune, comparable a la Zoe ou à la clio ayant planche de bord rouge (connait pas ... mais c'est ce qui m'a été répondu par le responsable Renault venu pour l'inauguration du stand).\n",
      "---\n",
      "\n",
      "******** cluster:  2  with  82 similar statements\n",
      "Key words: DCI TDI BVA IV RANG KG LIVRAISON SHARAN 160CH NIVEAU CV TOURS MAI EDC ANS\n",
      "\n",
      ">>> Message date: 2015-03-15 (0.010)\n",
      "   Pour le tce200 c'était plutôt septembre (au minimum)... Pour la remise, elle a été obtenue avec un SIRET car Renault fait des remises particulières pour certaines professions. C'est défini au niveau du siège, et valable n'importe où.\n",
      "---\n",
      "\n",
      "******** cluster:  3  with  48 similar statements\n",
      "Key words: DCI INSONORISATION WWW LIGNES MOTEUR TWIN ELITE CH VITESSES FR HTML PUISSANCE PERFS RAPPORT IV\n",
      "\n",
      ">>> Message date: 2015-04-09 (0.003)\n",
      "   Il n'y a pas un peu de répétition, là.....?En même temps, tu as raison, ça plus de lignes....\"insonorisation remarquables\"\"insonorisation soignée\", tu aurais du ajouter \"bonne insonorisation\", \"elle fait pas de bruit\", \"on entend pas le moteur\" ... Et hop, 3 lignes de plus......\n",
      "---\n",
      "\n",
      "******** cluster:  4  with  109 similar statements\n",
      "Key words: MODE CONTROL POUCES CONFORT FR SPORT VOITURE WWW ACTUALITE LARGUS ESSAI MOTEUR HTML PACK CHEVAUX\n",
      "\n",
      ">>> Message date: 2015-04-05 (0.004)\n",
      "   Un mec qui a conduit dynamique en mettant le mode sport : enfin un journaliste qui sait conduire ? Je ne peux pas voir l'essai de Turbo mais si c'est conduite dynamique avec mode confort, il a tout faux. Etonnant que Turbo dise que la voiture se vautre quand l'autre dit que c'est un kart en mode sport...\n",
      "---\n",
      "\n",
      "******** cluster:  5  with  119 similar statements\n",
      "Key words: GAMME RANG AUTO DM3 COFFRE VU MAIN ESSENCE VÉHICULE BOUTON VOITURE GÉNÉRAL POIDS RS ÉCRIT\n",
      "\n",
      ">>> Message date: 2015-03-12 (0.017)\n",
      "   Je pense que le grand Picasso est plus proche de l'Espace que ne l'est la 508. Quand à la finition Cheap en Exclusive : certainement pas. Je dirais moins haut de gamme que l'Espace V qui lui même est moins haut de gamme qu'un X5 ou Qu'un Range...\n",
      "---\n",
      "\n",
      "******** cluster:  6  with  63 similar statements\n",
      "Key words: YOUTUBE WATCH COM WWW VIDÉOS IKEA MEME CONDITIONS FRANCAISE KG TEST FEUX VIDÉO OUAI MÉTÉO\n",
      "\n",
      ">>> Message date: 2015-03-30 (0.011)\n",
      "   Ce que les essais disaient du 175 ch : ce bloc avec boîte mécanique à six rapports offre de nouvelles ressources à l'Espace. Accélérations plus consistantes, meilleur répondant dans les relances et allonge appréciable : le bilan est brillant et ce quatre-cylindres, en étant plus performant et moins gourmand, fait même de l'ombre à la version 3.0 V6 dCi dotée d'une inédite transmission automatique à six rapports.\n",
      "---\n",
      "\n",
      "******** cluster:  7  with  47 similar statements\n",
      "Key words: RDS 7PL JA19 TOEP ZEN CITY IP PACK INTENS REVENTE FR VIDEO TURBO DCI PANNEAUX\n",
      "\n",
      ">>> Message date: 2015-03-29 (0.012)\n",
      "   Ne me fais pas dire ce que je n'ai pas dit. Réduire la masse d'une voiture c'est très simple. Mais réduire la masse d'une voiture sans que cela coûte une fortune et sans que la qualité réelle ou apparente ne soit réduite, c'est beaucoup plus compliqué.\n",
      "---\n",
      "\n",
      "******** cluster:  8  with  90 similar statements\n",
      "Key words: PRESSE AVRIL FORMATION ANS GARANTIE ETRE DOSSIER PAGES DOUTES LIVRAISON COMMUNIQUÉ CONCESSIONS FIN ÉMIS DÉBUT\n",
      "\n",
      ">>> Message date: 2015-03-31 (0.014)\n",
      "   Disons que ce qui m'inquiète ce n'est pas le succès ou le bide de l'ESPACE, car dès le départ, au grand damne de ses supporters, j'ai émis des doutes sur les motorisations........, et dès le salon de Paris, j'ai émis des doutes sur la qualité des plastiques et des finitions, mais bon passons..... Ce qui m'inquiète vraiment c'est que la Laguna arrive très prochainement et qu'elle risque de pâtir de la mauvaise presse de l'Espace V.....\n",
      "---\n",
      "\n",
      "******** cluster:  9  with  84 similar statements\n",
      "Key words: LLD LOA MOTO CH VÉHICULE AUTO SÉRIE MERCI FIN PRÉ GARANTIE ESSAI TRAFIC VU CLIO\n",
      "\n",
      ">>> Message date: 2015-03-27 (0.006)\n",
      "   Reduire le reservoir c'est un truc courant pour reduire le poids et le CO2: par ex pour la classe B, la version normale a un reservoir de 50l, la version \"blue efficiency 99g\" (ou un truc du genre) n'a plus que 40l...Bonjour l'autonomie...\n",
      "---\n",
      "\n",
      "******** cluster:  10  with  144 similar statements\n",
      "Key words: COM ESSENCE MOTEUR KM ESSAI ANS CARADISIAC DIESEL CHOSE FIN CAS SECOURS VERSION CLUB KALOUTE1\n",
      "\n",
      ">>> Message date: 2015-04-11 (0.013)\n",
      "   Officiellement, il fait 1600kg en essence, 1650kg en diesel. D'apres auto plus il est équivalent au 175ch d'avant ... j'ai hâte qu'un vrai propriétaire du IV 175ch le teste. J'pense qu'il est plus proche du 150ch d'avant moi !\n",
      "---\n",
      "\n",
      "******** cluster:  11  with  44 similar statements\n",
      "Key words: BLOCAGE BESOIN PARKING FREIN MAGAZINE SORENTO CA VAG PHOTOS MODČLE FINITION JOURNALISTE KIA CARTE AUTO\n",
      "\n",
      ">>> Message date: 2015-04-12 (0.004)\n",
      "   LOL. Comparer un SUV à un monospace. Vraiment, c'est n'importe quoi ce magazine  Celui qui a besoin de 4 roues motrices achète un Sorento, celui qui n'en a pas besoin achète un Espace ou un SMax. C'est tout.\n",
      "---\n"
     ]
    }
   ],
   "source": [
    "agcr_cluster_nouns_sentences = [\" \".join([texts_nouns[r] for r in d_agcr_clusters[i]]) for i in range(nbr_clusters)]\n",
    "\n",
    "agcr_cluster_noun_vectorizer = TfidfVectorizer()\n",
    "agcr_cluster_nouns_vectors = agcr_cluster_noun_vectorizer.fit_transform(agcr_cluster_nouns_sentences)\n",
    "\n",
    "for i in range(nbr_clusters):\n",
    "    r = agcr_cluster_nouns_vectors.getrow(i)\n",
    "    n = len(r.indices)\n",
    "    s = zip(np.array(agcr_cluster_noun_vectorizer.get_feature_names())[r.indices], r.data)\n",
    "    sorted_s = sorted(s, key=lambda item: item[1], reverse=True)\n",
    "    print \"\\n******** cluster: \", i, \" with \", len(d_agcr_clusters[i]), 'similar statements'\n",
    "\n",
    "    print \"Key words: \"+\" \".join([sorted_s[x][0].upper() for x in range(n)][:15])\n",
    "    \n",
    "    cluster_center = np.mean(reduced_X[d_agcr_clusters[i]], axis=0)\n",
    "    dist2center = []\n",
    "    for j in d_agcr_clusters[i]:\n",
    "        dist2center.append(pairwise_distances(cluster_center, reduced_X[j], metric='cosine')[0][0])\n",
    "    s = zip([str(mdates[r])[:10] for r in d_agcr_clusters[i]], dist2center, [raw_texts[r] for r in d_agcr_clusters[i]])\n",
    "    sorted_s = sorted(s, key=lambda item: item[1])\n",
    "    count_print = 0\n",
    "    for m in sorted_s:\n",
    "        if len(m[2])>200 and len(m[2])<7500:\n",
    "            print \"\\n>>> Message date: %10s (%.3f)\\n   %15s\" % m\n",
    "            count_print += 1\n",
    "            if count_print == 1:\n",
    "                break\n",
    "    print '---'"
   ]
  },
  {
   "cell_type": "code",
   "execution_count": null,
   "metadata": {
    "collapsed": false
   },
   "outputs": [],
   "source": []
  },
  {
   "cell_type": "code",
   "execution_count": 33,
   "metadata": {
    "collapsed": false
   },
   "outputs": [
    {
     "name": "stdout",
     "output_type": "stream",
     "text": [
      "66\n"
     ]
    }
   ],
   "source": [
    "average_mlength = len(all_tokens)/nbr_messages\n",
    "print average_mlength"
   ]
  },
  {
   "cell_type": "code",
   "execution_count": 34,
   "metadata": {
    "collapsed": false
   },
   "outputs": [
    {
     "name": "stdout",
     "output_type": "stream",
     "text": [
      "{0: 95, 1: 87, 2: 129, 3: 166, 4: 61, 5: 50, 6: 93, 7: 144, 8: 47, 9: 44, 10: 35, 11: 111}\n",
      "[67, 61, 77, 71, 71, 78, 73, 75, 62, 58, 53, 64]\n"
     ]
    }
   ],
   "source": [
    "ltfidfcorpus = list(tfidfcorpus)\n",
    "tlda_topic_count = [sorted(tlda[ltfidfcorpus[m]], key=lambda item: item[1], reverse=True)[0][0] for m in range(nbr_messages)]\n",
    "tlda_topic_count = dict((i,tlda_topic_count.count(i)) for i in tlda_topic_count)\n",
    "print tlda_topic_count\n",
    "\n",
    "tlda_topic_sigword_count = [len([x for x in tlda.show_topic(i, 100) if x[0]>0.0033]) for i in range(nbr_clusters)]\n",
    "print tlda_topic_sigword_count"
   ]
  },
  {
   "cell_type": "code",
   "execution_count": 35,
   "metadata": {
    "collapsed": false
   },
   "outputs": [
    {
     "name": "stdout",
     "output_type": "stream",
     "text": [
      "Topic 0 RETARD CHANG SOURC DOMMAG RIEN TDI CV DÉSOL HABIT CENTRAL VIEUX PER\n",
      "Topic 1 MERC MOTO AUTO MOTO MERC INFO OK MERC OK ESSAI AUTO MOTO ESSAI AUTO HDG SER PRÉ DOIT ÊTRE\n",
      "Topic 2 19 MOD SÉQUENTIEL MOD SÉQUENTIEL POUC 20 CONTROL ENTRE HÉSIT LOOK 19 POUC FR ACTUALIT\n",
      "Topic 3 COULEUR FONC PHOTOS TAX INTÉRIEUR BLANC 18 BEL BONSOIR ICI ACCESSOIR TANT\n",
      "Topic 4 YOUTUB YOUTUB COM WATCH YOUTUB COM WWW YOUTUB COM WWW YOUTUB COM WATCH TEST WATCH FÉLICIT 80 SÛR 80 120\n",
      "Topic 5 GRAND IV VITESS MODIF VILL 100 04 PUISSANC VALEUR SURTOUT TRAFIC 30 RAPPORT POID PUISSANC\n",
      "Topic 6 ESSAIS PRESS ETRE PRESS COUT PEUT ÊTRE RAPPEL CHANC VENT SOUVENT MODIFI PEUT ETRE LANGU\n",
      "Topic 7 CON DÉJÀ SECOUR COMMERCIALIS ROU SECOUR CARADISIAC COM AVIS CONSTRUCTEUR 110 13 CAS ENTRÉ\n",
      "Topic 8 CAR PANNEAU 1700 VIDEO ALLEMAND FUTUR ELLE FR MOCH CI ZEN REVENT\n",
      "Topic 9 BESOIN FREIN SAIS BIENTÔT REGRET INFORM SUFF DISPONIBL MAGAZIN LAISS PARKING SAIT\n",
      "Topic 10 COOL GRIS BORD TOUT MOND LUN PLANCH BORD GRIS LUN BORD GRIS BRUN BORD GRIS LUN REFLET TABLEAU BORD\n",
      "Topic 11 QUESTION PETIT QUESTION ENFIN FERM SUJET OUI BEAU MAIN BLEU OÙ POINT LOURD\n"
     ]
    }
   ],
   "source": [
    "for i in range(nbr_clusters):\n",
    "    print \"Topic\", i, \" \".join(zip(*sorted([(  (k[0]+np.mean(zip(*tlda.show_topic(i, tlda_topic_sigword_count[i]))[0]))/\n",
    "                                               (all_tokens.count(k[1])+average_mlength)       , k[1])\n",
    "                                            for k in tlda.show_topic(i, tlda_topic_sigword_count[i])],\n",
    "                                    reverse=True)[:12])[1]).upper()"
   ]
  },
  {
   "cell_type": "code",
   "execution_count": 36,
   "metadata": {
    "collapsed": false
   },
   "outputs": [],
   "source": [
    "from datetime import datetime\n",
    "\n",
    "d_gensim_topics = {}\n",
    "for m in range(nbr_messages):\n",
    "    s = sorted(tlda[ltfidfcorpus[m]], key=lambda item: item[1], reverse=True)[0]\n",
    "    if s[1] > 0.5 and mdates[m] > datetime(2014,10,1) :\n",
    "        if s[0] not in d_gensim_topics:\n",
    "            d_gensim_topics[s[0]] = []\n",
    "        toplist = len(raw_texts[m])*(1000-len(raw_texts[m]))\n",
    "        d_gensim_topics[s[0]].append((m, s[1], toplist))"
   ]
  },
  {
   "cell_type": "code",
   "execution_count": 37,
   "metadata": {
    "collapsed": false,
    "scrolled": false
   },
   "outputs": [
    {
     "name": "stdout",
     "output_type": "stream",
     "text": [
      ">>>>>>>> Topic 0 with 95 similar statements:\n",
      "[KEY WORDS] RETARD CHANG SOURC DOMMAG RIEN CV TDI DÉSOL CENTRAL HABIT VIEUX PER\n",
      "\n",
      "*** 2015-03-07 09:55:36 : Je te rejoins parfaitement j2c sur le fait que ce nouvel espace n'est pas vraiment un espace.      Par contre je comprends qu'ils ait gardé le nom dans la mesure ou ce nom ŕ une image forte (pendant de nombreuses années Espace était associé ŕ Monospace et on parlait d'Espace citroen ou peugeot ou VW...) et ou il n'y a pas d'autres véhicules prévus ŕ męme de remplacer l'espace.      J'ai été moi aussi bercé par l'espace dans mon enfance, j'en ai révé pendant des années et on ŕ fini par en avoir un en 98\n",
      "*** 2015-04-01 15:28:18 : Je viens de recevoir le mag aujourd'hui (merci l'abonnement qui fait qu'il arrive toujours après sa sortie en kiosque  ) Effectivement dans l'essai du dCi 160 edc il est noté que le moteur est mollasson pour déplacer la masse du véhicule...vont être content ceux qui avaient un dCi 175  Erik123 a écrit : Je pense que la plupart des Q5 sont vendues avec le 2.0 tdi de 136 cv non? Donc là pas de soucis. euh...comment dire...le TDI 136 a disparu depuis quelques temps déjà au profit d'un 2.0 TDI 150 clean diesel\n",
      "*** 2015-03-31 10:14:22 : Sauf que le nouveau est beaucoup plus léger, ils parlent de 1650kg pour le 1.6dCi 160 dans l'essai, ŕ comparer au 1750 pour le IV en 2.0T essence.      Le 2.0 dCi 175 BVA en espace court c'est 1930kg         Un petit comparatif entre le IV dCi 175 BVA et le V 1.6 dCi 160 EDC :       Puissance : 175 - 160   Couple : 360 - 380   Poids : 1929 - 1659   RPP en kg/ch : 11.02 - 10.37   CO2 : 169 - 123      Franchement, rien ne remplace un essai, mais en voyant ces chiffres j'ai du mal ŕ croire que l'espace V dCi 160 fasse moins bien que le IV en dCi 175\n",
      "*** 2015-04-11 12:49:21 : Merci, c'est instructif, enfin un 1er comparo d'un proprio d'Espace IV. Pour le trou au feu rouge/ vert, c'est effectivement la BVA qui n'a pas eu le temps de rétrograder ou d'enclencher le rapport. Pour le lecteur CD, c'est pour moi une opportunité plus qu'une contrainte désormais tout est sur clé USB et la boite à gant ne déborde plus! Pour le 4C, le plus gênant est de prendre l'habitude au départ pour les créneaux, sur ma Laguna coupé les premiers ont fini la roue dans le trottoir presque à la perpendiculaire (j'exagère). Après ça vient tout seul et c'est vraiment parfait.\n",
      "*** 2015-04-03 16:29:17 : Le nouveau Ford Galaxy arrive avec des diesels de 120 - 150 - 180 ou 210ch et en essence un 1.5 160ch ou un 2.0 240ch.   Un concurrent direct avec une gamme moteur un peu plus жtoffжe.   Reste Я comparer les prix, l'жquipement et l'habitabilitж entre les 2.      (Question Design je prжfУre le Renault)                            http://www.moniteurautomobile.be/article/nouveaute-ford-g..642.cfm#.VR6xo_msXkU\n",
      "\n",
      ">>>>>>>> Topic 1 with 87 similar statements:\n",
      "[KEY WORDS] MERC MOTO AUTO MOTO MERC INFO OK MERC OK ESSAI AUTO MOTO ESSAI AUTO HDG SER PRÉ DOIT ÊTRE\n",
      "\n",
      "*** 2015-04-09 21:29:46 : Perso, je ne prendrais pas le pack city, le hayon motorisé c'est chiant, trop lent et avec le risque que ceux qui n'ont pas l'habitude referment manuellement et bousillent tout. Le park assist (en général, pas spécifique au SP5), d'après ce que j'ai lu, hormis pour les handicapés du créneau, c'est pas très efficace (il faut bcp de place ...). Affichage tête haut OK mais regul adaptatif bof, j'ai peur d'avoir trop confiance. Donc moi c'est 4C + affichage tête haute, mais comme il est dans le pack, c'est 4C tout court !\n",
      "*** 2015-03-11 20:24:24 : J'dis ça sans source / preuve, c'est juste un ressenti ... Mais bon, les commandes ont tardé à ouvrir, les formations se font sur des pré-série. Les concessions sont absolument incapable de savoir quand ils auront leur véhicule ... le chef de vente de mon secteur à l'air quand même assez surpris de tout ça. Habituellement, ça semble plus calés que ça. En tout cas, personne n'a encore vu un véhicule de série à ma connaissance...\n",
      "*** 2015-03-04 13:38:06 : c'est bien ce que je pensais ! le IV long offrait \"tout juste\" la place nécessaire et sans compter avec un départ en vacances où le volume de coffre est plus que nécessaire  je ne manquerai pas tout de même à faire un petit essai, juste pour moi... après il faudra attendre que Renault fasse un véhicule pour les grandes familles et pas un fourgon comme le traffic\n",
      "*** 2015-03-31 12:04:31 : Le journaliste qui a écrit ça dit avoir un véhicule sans 4 control. A ma connaissance, les trois moteurs sont disponibles pour les journalistes, de même concernant les finitions et les options. De même, a ma connaissance, ce sont des véhicules de série qui sont essayés depuis hier (avec des différences visibles par rapport aux pré-série).\n",
      "*** 2015-04-06 08:31:16 : Revenons au sujet. Article sympa : http://automobile.challenges.f​ [...] alite.html Ca confirme que la presse a bien essayé des modèles de pré-série et que les modèles de série sont encore différent. De même, tous les défauts de finition (mauvais alignement) sont prévu d'être corrigé a priori. Vraiment sympa cette article !\n",
      "\n",
      ">>>>>>>> Topic 2 with 129 similar statements:\n",
      "[KEY WORDS] 19 MOD SÉQUENTIEL MOD SÉQUENTIEL POUC 20 HÉSIT CONTROL LOOK ENTRE 19 POUC FR ACTUALIT\n",
      "\n",
      "*** 2015-04-10 21:50:23 : moi la mienne (ZEN 160 Blanc nacré 7 places) est prévue ... fin avril. J'espère qu'ils ne décaleront pas,pour l'instant pas de nouvelles bonnes nouvelles. Je ferai des photos ! C'était un vrai risque de la commander en février avant les essais mais vu celui d'auto plus, je suis soulagé même si la ZEn a quelques gadgets en moins. Mais moi ça me va bien, c'est mieux que mdans la mesure ou c'est une voiture de fonction et que l'autre choix aurait pu être la version de base boite manuelle 130cv...\n",
      "*** 2015-04-01 11:13:25 : Clair que le super virage pris Я fond avec la voiture qui s'жcrase completement sur l'avant gauche c'est le style de conduite adoptж rжguliУrement sur ce genre de voitures        Plus sжrieusement les versions testжes ont l'air d'avoir toutes la suspat pilotжe et le 4 control, je me demande si Renault n'a pas trop insistж sur le dynamisme de la voiture lors de la prжsentation aux essayeurs qui sont du coup restжs sur leur faim en terme d'agrжment moteur\n",
      "*** 2015-03-31 16:17:17 : En fait quand on lit bien, le moteur fait le boulot au quotidian mais il ne donne pas de sensations. Il est trop linéaire... Le chassis est tellement bon que le moteur est un peu en décalage coté perfs. A voir avec le Tce! \"Par contraste, le très linéaire 1.6 dCi 160 à suralimentation double étage semble un peu juste. Pas de soucis au quotidien, mais davantage de brio n'aurait pas été de trop lorsqu'on est chargé, en montée, ou lors des dépassements.\"\n",
      "*** 2015-04-04 16:26:35 : L'argus publie un Zoom concernant le Multi-sense, toujours sur le DCI160 qu'ils ont déja essayé. http://www.largus.fr/actualite​ [...] 94407.html C'est marrant a lire parce que finalement, largus a tapé sur le DCI160 \"moteur mou, manquant de nerf, etc. etc.\" puis finalement, avec le zoom, ils expliquent que le comportement change du tout au tout. Completement mou en Eco, bof en confort, sympa en neutre et carrément agréable en sport ... A ce demander si les journalistes qui qualifie les moteurs ont bien pris la mesure de ce système. Ca peut pas se faire en 15 minutes.\n",
      "*** 2015-04-12 10:23:28 : La totalité des voitures ont aujourd'hui beaucoup de plastiques \"durs\" (en fait, \"qui sonnent creux\" ), tout simplement parce qu'il est impossible de mettre partout des trucs épais qui sonnent \"bien remplis\" si on veut alléger les voitures! Très honnêtement c'est l'apparence qui compte (et le toucher), on n'est pas là à toquer sur tous les plastiques une fois qu'on a acheté la voiture!!! C'est vraiment absurde ce reproche!\n",
      "\n",
      ">>>>>>>> Topic 3 with 166 similar statements:\n",
      "[KEY WORDS] COULEUR FONC PHOTOS TAX INTÉRIEUR BLANC 18 BONSOIR BEL ACCESSOIR ICI TANT\n",
      "\n",
      "*** 2015-03-26 14:52:04 : Je pense que renault doit encore faire de gros effort sur la consommation et le rejet CO2 quand ont vois chez peugeot la 308 avec le moteur 2.0 150CH qui ne rejete que 93gr on se demande pas pourquoi les leasing ici en Belgique se jettent dessus . Moi pour ma boite ou je travaille l'espace rentre dans le budget (niveau prix) mais elle est refusée car trop de CO j'ai droit a maximum 115gr !!! Donc si plusieurs société sont comme la mienne en Belgique l'espace est mort pour son rejet !\n",
      "*** 2015-04-03 12:37:00 : Je trouve que cette phrase tirée de l'essai d'AutoPlus décrit parfaitement le nouvel Espace : \" Mais c’est en tarif que cet Espace est le mieux placé : à 45 000 €, il offre des prestations de haut de gamme, n’en déplaise à tous ceux qui en pensent Renault incapable juste parce que c’est Renault, avec un équipement archi-complet comprenant enfin les aides à la conduite indispensables aujourd’hui à ce niveau de gamme. Seuls les habitués de l’Espace précédent pourront être perturbés, tant le nouveau est différent. \"\n",
      "*** 2015-03-12 21:05:41 : Pareil j'adore! J'ai pris la ZEN /rapport €€€€€ et je trouve en effet qu'elle représente un bon rapport équipement prix (siège massant / siège bi matière / boite auto / caméra recul / multi sense / toit panoramique / phare route auto / pack sécurité etc...pour 40 000€, manque que le cuir... Marre de ma 508sw, aussi longue et dure à garer que ma future espace V mais quasi impossible avec une famille de 5 dont 2 sièges BB. La S Max? Franchement toc! Sharan? Demodée avant sa sortie. Galaxy = Traffic Renault. what else??\n",
      "*** 2015-03-17 19:53:27 : J'ai demandé à mon agence ce tantôt pour une simulation d'Initiale, que ce soit essence ou diesel nous sommes à fin Juillet en délai de livraison, le 29 exactement. Pour ceux que ça intéressera (je ne vais pas la poster pour avoir des réflexions, à me demander en MP) j'ai la documentation complète avec les références et les tarifs des accessoires (l'attelage en fait partie), comme quoi tous les collaborateurs ne sont pas à mettre au même rang, pour ceux qui les aiment pas.\n",
      "*** 2015-03-28 13:18:42 : En effet, je pense qu'il s'agit de la caméra pour les feux de jour mais cela donne un effet bizarre... Pour l'appui tête, je ne pense pas à un problème. C'est juste qu'i ressort en tombant et que le système le remet en place. C'est juste le déverrouillage des sièges qui est électrique. Le reste est mécanique. Ce n'est donc pas surprenant qu'en tombant l'appui tête ressorte et que le ressort le remette en place. Par contre cela confirme que la chute des sièges est violente.\n",
      "\n",
      ">>>>>>>> Topic 4 with 61 similar statements:\n",
      "[KEY WORDS] YOUTUB YOUTUB COM WATCH YOUTUB COM WWW YOUTUB COM WWW YOUTUB COM WATCH TEST WATCH FÉLICIT 80 SÛR 80 120\n",
      "\n",
      "*** 2015-03-16 09:34:42 : C'est a la demande, si tu valides la proposition suite un panneau, il s'adapte. cyraline63 a écrit : +1 Merci pour ces vidéos. Au fait, quelqu'un sait si les feux sont directionnels ? Non, uniquement les feux automatique plein phare / croisement. Nounou74 a écrit : Et le système s'adapte-t-il en fonction des conditions météo par exemple ? Non C'est quand même marrant de se baser sur 39 vidéos en polonais pour un véhicule francais ...\n",
      "*** 2015-03-30 21:25:43 : Ce que les essais disaient du 175 ch : ce bloc avec boîte mécanique à six rapports offre de nouvelles ressources à l'Espace. Accélérations plus consistantes, meilleur répondant dans les relances et allonge appréciable : le bilan est brillant et ce quatre-cylindres, en étant plus performant et moins gourmand, fait même de l'ombre à la version 3.0 V6 dCi dotée d'une inédite transmission automatique à six rapports.\n",
      "*** 2015-04-07 14:40:15 : Ca me parait bizarre que Renault se soit loupé à ce niveau... Le grand scenic 7p fait quasi le meme poids que l'espace 5 et le comportement routier est excellent. Personnellement j'aurais préféré plus ferme, mais c'est un bon compromis. Apres, que ce soit encore meilleur avec les options je dis pas... Mais est-ce vraiment nécessaire?\n",
      "*** 2015-04-07 14:40:15 : Ca me parait bizarre que Renault se soit loupé à ce niveau... Le grand scenic 7p fait quasi le meme poids que l'espace 5 et le comportement routier est excellent. Personnellement j'aurais préféré plus ferme, mais c'est un bon compromis. Apres, que ce soit encore meilleur avec les options je dis pas... Mais est-ce vraiment nécessaire?\n",
      "*** 2015-03-07 10:56:04 : quel peinture tu parle? la bleu au dessu ne fonce ou ne défoncepas, dans un salon, les peintures ne donne pas le meme rendu que dehors. par exemple un captur rouge flamme au salon de bxl tirait plus sur le orange que le rouge\n",
      "\n",
      ">>>>>>>> Topic 5 with 50 similar statements:\n",
      "[KEY WORDS] GRAND IV VITESS VILL MODIF 100 04 PUISSANC VALEUR SURTOUT TRAFIC 30 RAPPORT POID PUISSANC\n",
      "\n",
      "*** 2015-04-10 19:21:34 : J'ai cru lire que ça agissait (un peu) sur la réactivité du moteur et de la BVA ? meiji851 a écrit : Je ne pensais vraiment pas qu'il rivalisait avec le Grand Espace IV sur l'habilité à 7. Et bien si ... Pas sur tous les critères (notamment largeur 3ème rang) mais il se défend plutôt pas mal surtout qu'en tarif s'il y a 1100 € d'écart ça correspond au tarif de l'Espace IV court.\n",
      "*** 2015-04-09 20:35:36 : Il n'y a pas un peu de répétition, là.....?En même temps, tu as raison, ça plus de lignes....\"insonorisation remarquables\"\"insonorisation soignée\", tu aurais du ajouter \"bonne insonorisation\", \"elle fait pas de bruit\", \"on entend pas le moteur\" ... Et hop, 3 lignes de plus......\n",
      "*** 2015-04-09 20:35:36 : Il n'y a pas un peu de répétition, là.....?En même temps, tu as raison, ça plus de lignes....\"insonorisation remarquables\"\"insonorisation soignée\", tu aurais du ajouter \"bonne insonorisation\", \"elle fait pas de bruit\", \"on entend pas le moteur\" ... Et hop, 3 lignes de plus......\n",
      "*** 2015-04-04 14:03:01 : Je te mets au défi de ralentir en anticipant 2.5 tonnes avec une boite 8 à 80 km/h depuis le dernier rapport sur une voie rapide avec du trafic et j'enlève la pédale de frein  A noter, le moteur tourne à 2000 tr/min à 130 en 8e. Bonne chance\n",
      "*** 2015-04-02 09:58:10 : 8.5, c'est ce que je fais (à l'ODB) avec ma 407 2.0 BVA de 140ch sur nationales et 4 voies (90 - 110). Ce couple moteur/boîte n'étant pas spécialement connu pour sa sobriété, je me dis même que 8.5, c'est encore élevé pour un 1.6 Turbo.\n",
      "\n",
      ">>>>>>>> Topic 6 with 93 similar statements:\n",
      "[KEY WORDS] ESSAIS PRESS ETRE PRESS COUT PEUT ÊTRE RAPPEL CHANC VENT SOUVENT MODIFI PEUT ETRE LANGU\n",
      "\n",
      "*** 2015-03-31 13:39:46 : contribution brillante. Si google répond à cette question, je veux bien le lien  Sous entendu, les commandes sont ouvertes depuis 2 mois au 15 avril. Les essais presse ont lieu cette semaine. donc c'est d'ores et déja commercialisé ... le 15 avril, il se passe quoi du coup ? Est-ce que ça veut dire lancement campagne pub, que les concessions auront leur modèle d'expo a cette date, début des essais clients, des livraisons clients ? bref j'imagine que ça doit avoir un sens précis.\n",
      "*** 2015-04-09 21:00:39 : Un dossier de presse de 32 pages, un support de formation de 260 pages ... j'imagine qu'ils sont écrit par les journalistes. De même que les 3 brochures distribués depuis janvier, donc la dernière daté d'avril 2014 distribué à tous les clients ... écrite par les journalistes aussi ? Renault communique décidement pas. J'imagine que c'est kevin spacey dans le spot TV qui va nous apprendre tout ça  Une photo de la pub pour la peine (que j'ai vu et qui précise rien de plus)\n",
      "*** 2015-03-31 10:49:57 : Disons que ce qui m'inquiète ce n'est pas le succès ou le bide de l'ESPACE, car dès le départ, au grand damne de ses supporters, j'ai émis des doutes sur les motorisations........, et dès le salon de Paris, j'ai émis des doutes sur la qualité des plastiques et des finitions, mais bon passons..... Ce qui m'inquiète vraiment c'est que la Laguna arrive très prochainement et qu'elle risque de pâtir de la mauvaise presse de l'Espace V.....\n",
      "*** 2015-03-31 10:49:57 : Disons que ce qui m'inquiète ce n'est pas le succès ou le bide de l'ESPACE, car dès le départ, au grand damne de ses supporters, j'ai émis des doutes sur les motorisations........, et dès le salon de Paris, j'ai émis des doutes sur la qualité des plastiques et des finitions, mais bon passons..... Ce qui m'inquiète vraiment c'est que la Laguna arrive très prochainement et qu'elle risque de pâtir de la mauvaise presse de l'Espace V.....\n",
      "*** 2015-04-08 13:37:02 : Pas communiqué? c'est une façon de le voir. Moi je l'ai vu partout dans la presse et dans autoMoto/Turbo ... Les formations des concessionnaires sont terminés. A aucun moment Renault a dit que c'était garantie 5 ans. Le directeur de l'atelier Renault m'a dit qu'ils étaient les seuls avec les collaborateurs a en disposer. Pour la clio 4, la garantie 5 ans a été annoncé au moment des tarifs (même communiqué de presse). Ca été un argument fort, bien avant la mise en vente. Le dossier de presse final de l'espace V sortie le 26 mars fait 32 pages .. et pas de garantie 5 ans. Si je me trompe, j'en serai le premier content !\n",
      "\n",
      ">>>>>>>> Topic 7 with 144 similar statements:\n",
      "[KEY WORDS] CON DÉJÀ SECOUR COMMERCIALIS ROU SECOUR CARADISIAC COM AVIS CONSTRUCTEUR 110 13 ENTRÉ CAS\n",
      "\n",
      "*** 2015-04-11 10:41:04 : Certes c'est invisible, mais c'est quand même en-dessous.....  C'est marrant, cette tendance à nier l'évidence alors que les chiffres sont factuels..... En plus tu n'as absolument rien compris à mes propos, je vais donc essayer d'utiliser des mots simples pour que tu puisses comprendre. Je ne juge pas le niveau de performance (je m'en contrefous...) mais je compare avec l'ancien modèle, et le constat est clair, c'est en dessous.... Et sache que je ne suis pas et ne serais jamais une victime....\n",
      "*** 2015-03-12 21:54:03 : Bonsoir,      Non pas encore d'info sur le delai de livraison mais via un loueur ce n'est pas trop une surprise (d'autant que la commande n'est peut-ętre encore qu'en traitement administratif chez eux et malheureusement pas encore formellement tranmise ŕ Renault...).      Pas de souci pour partager mes impressions le moment venu mais venant d'un diesel (le premier et le dernier !), je ne vais pas ętre objectif sur cette motorisation essence qui va forcément me plaire !        Emmanuel\n",
      "*** 2015-03-31 14:36:26 : Mandataire qui a un peu + d'1 an d'existence (cf n° de siret), qui annonce des remises improbables, et qui arrive à avoir des avis datés de 2011 alors qu'ils n'existaient pas encore et même des avis de 12/2015 !!!! Visiblement pour faire des faux avis, ils s'emmerdent même plus ils écrivent \"bien\" ou \"parfait\" .... Ils parlent d'un groupe avec une multitude de filiales .... et la caisse d'épargne comme partenaire (ils pourraient mettre n'importe qui, partenaire ça veut pas dire gd chose). Bref, c'est super louche.\n",
      "*** 2015-03-31 14:36:26 : Mandataire qui a un peu + d'1 an d'existence (cf n° de siret), qui annonce des remises improbables, et qui arrive à avoir des avis datés de 2011 alors qu'ils n'existaient pas encore et même des avis de 12/2015 !!!! Visiblement pour faire des faux avis, ils s'emmerdent même plus ils écrivent \"bien\" ou \"parfait\" .... Ils parlent d'un groupe avec une multitude de filiales .... et la caisse d'épargne comme partenaire (ils pourraient mettre n'importe qui, partenaire ça veut pas dire gd chose). Bref, c'est super louche.\n",
      "*** 2015-04-09 11:17:13 : Un autre essai intéressant ... http://www.motoservices.com/es​ [...] ospace.htm Je cite l'article pour un dCi 160 en finition Initiale Paris accessible à partir de 44.800 €: A titre de comparaison, chez BMW, on repart avec un X3 sDrive18d 150 ch boite auto entrée de gamme avec quelques options, de chez Audi, avec un Q5 2.0 TDI 150 Ambition Luxe avec quelques options et de chez Mercedes avec un GLK 220 CDI 4Matic 170 entrée de gamme et sans options.\n",
      "\n",
      ">>>>>>>> Topic 8 with 47 similar statements:\n",
      "[KEY WORDS] CAR PANNEAU 1700 VIDEO ALLEMAND FUTUR ELLE FR MOCH CI ZEN REVENT\n",
      "\n",
      "*** 2015-04-12 12:50:52 : J'avais aussi fait le calcul avant de poster. En effet c'est très mal fichu: c'est noté \"impose et + 700€\" mais on le retrouve pas dans le prix c'est juste (juste  ) 1700€ Tu as raison pour la revente. Au départ c'était même un nouveau Grand C4 Picasso. Madame va finir par me  . C'est déjà en pensant revente que j'ai pris l'Intens. J'avais un Zen avec pack city et le pack technologie en option soit un Intens sans le cuir... Pour la revente j'ai pris le cuir. Et merci les journalistes  pour le 4C.\n",
      "*** 2015-03-31 15:50:25 : Pour concurrencer le Bi-TDI 240 je pense... Je suis content de savoir que Renault va proposer des gros moteurs sur ses voitures. toitoine78 a écrit : au 15 avril, si ça n'a pas changé, il y aura environ 1500 Espace dans le réseau avec comme dispo si pas déjà vendu: - zen dci 160 7pl, RDS pack city - intens dci 160 JA19, bose, 4C, 7pl, RDS - IP dci 160 JA19, 7pl, TOEP, RDS - IP TCE200 JA19, 7pl, TOEP, RDS Tout ceci en 3 coloris: Beige dune, marron glacé ou gris cassiopée Pour tout autre choix ou diversité, ce sera une commande usine. Merci de l'info\n",
      "*** 2015-03-31 14:21:16 : au 15 avril, si ça n'a pas changé, il y aura environ 1500 Espace dans le réseau avec comme dispo si pas déjà vendu: - zen dci 160 7pl, RDS pack city - intens dci 160 JA19, bose, 4C, 7pl, RDS - IP dci 160 JA19, 7pl, TOEP, RDS - IP TCE200 JA19, 7pl, TOEP, RDS Tout ceci en 3 coloris: Beige dune, marron glacé ou gris cassiopée Pour tout autre choix ou diversité, ce sera une commande usine.\n",
      "*** 2015-04-08 22:19:23 : J'ai un cas de conscience que je vous expose ... Voila je suis intéressé par la version Zen en 160cv. J'ai un budget option de 1700€ environ ... si vous etiez a ma place Vous choisiriez quoi??? Le 4 control (1700€) ou le pack city + le pack tehnologie (1600€ environ)\n",
      "*** 2015-03-29 11:54:54 : Ne me fais pas dire ce que je n'ai pas dit. Réduire la masse d'une voiture c'est très simple. Mais réduire la masse d'une voiture sans que cela coûte une fortune et sans que la qualité réelle ou apparente ne soit réduite, c'est beaucoup plus compliqué.\n",
      "\n",
      ">>>>>>>> Topic 9 with 44 similar statements:\n",
      "[KEY WORDS] BESOIN FREIN SAIS BIENTÔT REGRET INFORM SUFF DISPONIBL MAGAZIN LAISS PARKING SAIT\n",
      "\n",
      "*** 2015-04-11 20:27:45 : Tu le récupère rapidement. Au paiement de la carte grise, du malus, de quelques milliers de kilomètres, et a la revente. Ca serait intéressant que Renault développe par la suite un essence / hybride pour ceux qui font des petits trajets. Surtout que ça existe déjà chez Infiniti, pourquoi ne pas en profiter?\n",
      "*** 2015-03-31 09:55:54 : Moi je suis étonné que tous disent \"finition laisse a désirer, finition inégale\", tous note ça sans détailler. Sur twitter, le journaliste de Turbo qui a participé hier au test le dit aussi ... (en plus de dire que les accélérations sont mauvaises).\n",
      "*** 2015-03-31 21:08:00 : Auto plus http://youtu.be/Iq9XOzqhd78 Toujours et encore du dci160 ! A croire qu'il n'y avait pas de dci130/tce200. De meme concernant la finition IP, pas un mot dessus pour l'instant  ou alors ils se reservent pour les magazine payant !\n",
      "*** 2015-04-12 08:14:37 : LOL. Comparer un SUV à un monospace. Vraiment, c'est n'importe quoi ce magazine  Celui qui a besoin de 4 roues motrices achète un Sorento, celui qui n'en a pas besoin achète un Espace ou un SMax. C'est tout.\n",
      "*** 2015-03-01 14:52:13 : Je ne pense pas que ça a vocation à imiter des sorties chromées (comme sur les Classe C, E ou S par exemple). C'est de la pure décoration, un peu comme sur un XC70.\n",
      "\n",
      ">>>>>>>> Topic 10 with 35 similar statements:\n",
      "[KEY WORDS] COOL GRIS BORD TOUT MOND PLANCH BORD LUN GRIS LUN BORD GRIS BRUN BORD GRIS LUN REFLET TABLEAU BORD\n",
      "\n",
      "*** 2015-04-09 18:35:31 : Pour ce qui est de ta remarque sur la planche de bord en gris lune qui génère un reflet ! Ou as tu vu cela ? Peut être du au soleil rasant lors de la photo !\n",
      "*** 2015-03-01 16:52:13 : @Firsena je la trouve originale. Quant à la vitesse attendons les essais des journalistes. Tout le monde ne roule pas \"à fonds les manettes\". !\n",
      "*** 2015-04-09 18:52:02 : Zoe ... planche de bord gris clair ... et pas de solution trouvé actuellement. A voir si la nouvelle zoe trouve une solution mais je crois pas\n",
      "*** 2015-04-09 18:45:52 : Merci Cortex, Dommage car je le trouve plutot jolie ce tableau de bord en gris lune ... Encore une question que je vais devoir me poser !\n",
      "*** 2015-02-28 13:43:23 : J'en ai croisé une dans la région de Brigue, Valais en Suisse! C'est qui qui roulent déjà avec? Ou bien ils l'emmenaient à Genève !\n",
      "\n",
      ">>>>>>>> Topic 11 with 111 similar statements:\n",
      "[KEY WORDS] QUESTION PETIT QUESTION ENFIN FERM SUJET OUI BEAU MAIN BLEU OÙ POINT LOURD\n",
      "\n",
      "*** 2015-03-27 19:01:59 : Sur autoroute (120/130), je tourne à 11.5 litres aux 100 à 4 plus bagages ou à 6 plus (moins de) bagages. Ca fait plus de 750 bornes, c'est déjà pas mal, enfin moi ça me convient. Après la Mercedes, il faut que je regarde ce que c'est exactement (essence ou diesel). Bientôt aux US, Mercedes aura des SUV hybrides rechargeables essence a priori donc ça risque de m'intéresser mais j'ai peur du prix, comme l'essence n'est pas très chère, il faudra rouler beaucoup pour que ça soit rentable.\n",
      "*** 2015-04-12 09:41:37 : Ca n'a jamais été le fort des diesels d'accéléré, c'est pour ça que les turbos ont été inventés ... Du coup, diesel turbo vs essence turbo, c'est toujours l'essence qui gagne en général .. mais je suis d'accord avec toi, j'ai jamais réussi a comprendre les courbes des moteurs, j'y comprends - strictement - rien. diesel : 380 Nm de couple disponible à 1750 tr/min essence : 260 Nm de couple disponible dès 2500 tr/min et c'est l'essence qui gagne !\n",
      "*** 2015-04-11 11:40:05 : On sens que tu parle en connaissance de cause 250kg de gagné c'est énorme, Nissan, Peugeot ou Mazda d'une génération à l'autre d'une même voiture ont généralement un gain de 100kg. Faut pas non plus oublier l'apport de certaines technologie qui ont également un poids (ACC, ParkAssist...) Le but n'est pas de gagner du poids pour favoriser les performances ça c'est réservé aux version plus radical des sportives de Renault\n",
      "*** 2015-04-03 11:35:08 : C'est toujours comme ça pour un lancement. Il faut que l'usine se rode et donc pour plus d'efficacité, l'usine fabrique 2 ou 3 modèles identiques (couleurs, options, ...) que les constructeurs infusent aux CC. Ils sont choisi pour proposer la plupart des config et répondre au besoin de la majorité. Après, dès que l'usine monte en cadence et maîtrise mieux le process, les CC peuvent commander ce qu'ils veulent.\n",
      "*** 2015-03-21 12:56:20 : Le Park Assist c'est bien pour s'amuser au début, après on le zappe !  Faut le déclencher par l'appuie sur un bouton, se mettre à rouler au pas, s'arrêter brusquement pour passer la marche arrière, moralité à moins d'habiter dans un village de 5000 âmes, tu fais chier ton monde !  Pas de vision 360° sur l'Espace ? Ca c'est nettement plus pratique pour se garer à la GTA 2 !\n",
      "\n"
     ]
    }
   ],
   "source": [
    "for x in [(k, sorted(d_gensim_topics[k], key=lambda item: item[2], reverse=True)[:5]) for k in d_gensim_topics.keys()]:\n",
    "    print \">>>>>>>> Topic\", x[0], \"with\", tlda_topic_count[x[0]], \"similar statements:\"\n",
    "    print \"[KEY WORDS]\", \" \".join(zip(*sorted([(  (k[0]+np.mean(zip(*tlda.show_topic(i, tlda_topic_sigword_count[x[0]]))[0]))/\n",
    "                                                  (all_tokens.count(k[1])+average_mlength), k[1])\n",
    "                                               for k in tlda.show_topic(x[0], tlda_topic_sigword_count[x[0]])],\n",
    "                                       reverse=True)[:12])[1]).upper()\n",
    "    print\n",
    "    for y in x[1]:\n",
    "        print \"*** \"+str(mdates[y[0]])+\" : \"+raw_texts[y[0]]\n",
    "    print"
   ]
  },
  {
   "cell_type": "code",
   "execution_count": null,
   "metadata": {
    "collapsed": false
   },
   "outputs": [],
   "source": []
  }
 ],
 "metadata": {
  "kernelspec": {
   "display_name": "Python 2",
   "language": "python",
   "name": "python2"
  },
  "language_info": {
   "codemirror_mode": {
    "name": "ipython",
    "version": 2
   },
   "file_extension": ".py",
   "mimetype": "text/x-python",
   "name": "python",
   "nbconvert_exporter": "python",
   "pygments_lexer": "ipython2",
   "version": "2.7.6"
  }
 },
 "nbformat": 4,
 "nbformat_minor": 0
}
