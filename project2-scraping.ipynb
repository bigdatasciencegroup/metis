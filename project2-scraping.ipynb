{
 "metadata": {
  "name": "",
  "signature": "sha256:b61f1ed0fdbeb01320a854902828a16ee44e825b42f2f688edf618014b685577"
 },
 "nbformat": 3,
 "nbformat_minor": 0,
 "worksheets": [
  {
   "cells": [
    {
     "cell_type": "code",
     "collapsed": false,
     "input": [
      "import urllib2\n",
      "from bs4 import BeautifulSoup\n",
      "from pprint import pprint\n",
      "from datetime import datetime"
     ],
     "language": "python",
     "metadata": {},
     "outputs": [],
     "prompt_number": 1
    },
    {
     "cell_type": "code",
     "collapsed": false,
     "input": [
      "import pymongo\n",
      "\n",
      "from pymongo import Connection\n",
      "c = Connection()\n",
      "c['espace5'].drop_collection('forums')\n",
      "\n",
      "c = pymongo.MongoClient()\n",
      "db = c['espace5']\n",
      "forum_messages = db['forums']"
     ],
     "language": "python",
     "metadata": {},
     "outputs": [],
     "prompt_number": 2
    },
    {
     "cell_type": "code",
     "collapsed": false,
     "input": [
      "data = []\n",
      "url = \"http://www.forum-auto.com/marques/renault/sujet5226-\"\n",
      "\n",
      "for scan in range(0,2241,35):\n",
      "    scan_page = url+str(scan+1260)+'.htm'\n",
      "    page = urllib2.urlopen(scan_page)\n",
      "    soup = BeautifulSoup(page)\n",
      "    case1 = soup.findAll(\"td\", { \"class\" : \"messCase1\" })\n",
      "    case2 = soup.findAll(\"td\", { \"class\" : \"messCase2\" })\n",
      "    for x,y in zip(case1, case2):\n",
      "        try:\n",
      "            user_id = x.find(\"span\").text\n",
      "            date_posted = y.find(\"div\", { \"class\" : \"toolbar\" }).text\n",
      "            date_posted = datetime.strptime(date_posted[9:19]+\" \"+date_posted[22:30], '%d-%m-%Y %H:%M:%S')\n",
      "            try:\n",
      "                y.find(\"div\", { \"class\" : \"toolbar\" }).extract()\n",
      "            except:\n",
      "                pass\n",
      "            try:\n",
      "                y.find(\"table\", { \"class\" : \"citation\" }).extract()\n",
      "            except:\n",
      "                pass\n",
      "            try:\n",
      "                y.find(\"div\", { \"class\" : \"edited\" }).extract()\n",
      "            except:\n",
      "                pass\n",
      "            try:\n",
      "                y.find(\"div\", { \"class\" : \"edited\" }).extract()\n",
      "            except:\n",
      "                pass\n",
      "            try:\n",
      "                y.find(\"span\", { \"class\" : \"signature\" }).extract()\n",
      "            except:\n",
      "                pass\n",
      "\n",
      "            doc = {'text': y.getText(\" \"), 'user': user_id, 'date': date_posted , 'forum_id' : 'forum-auto-secrets-espace-5'}\n",
      "            forum_messages.save(doc)\n",
      "        except:\n",
      "            pass"
     ],
     "language": "python",
     "metadata": {},
     "outputs": [],
     "prompt_number": 3
    },
    {
     "cell_type": "code",
     "collapsed": false,
     "input": [
      "forum_messages.count()"
     ],
     "language": "python",
     "metadata": {},
     "outputs": [
      {
       "metadata": {},
       "output_type": "pyout",
       "prompt_number": 4,
       "text": [
        "2303"
       ]
      }
     ],
     "prompt_number": 4
    },
    {
     "cell_type": "code",
     "collapsed": false,
     "input": [
      "m = forum_messages.find_one()\n",
      "print m['text']"
     ],
     "language": "python",
     "metadata": {},
     "outputs": [
      {
       "output_type": "stream",
       "stream": "stdout",
       "text": [
        "\n",
        " Reprise du message pr\u00e9c\u00e9dent : J'ai particip\u00e9 \u00e0 celui de ce jour. Il est tr\u00e8s beau, tr\u00e8s pur et enfin des technologies nouvelles sur une Renault. Tr\u00e8s impressionn\u00e9 par le niveau technologique g\u00e9n\u00e9ral. J'esp\u00e8re que la client\u00e8le vis\u00e9e sera sensible \u00e0 tout cela. NEW GAMME DACIA, CLIO IV, CAPTUR, TWINGO 3, FUTUR ESPACE (on ne connait pas encore son nom..) : RENAULT RESSORT VRAIEMENT TRES TRES FORT DE LA CRISE LE GROUPE RENAULT EST ENTRAIN DE DEVENIR UN HIT AUTOMOBILE, nous pouvons \u00eatre tr\u00e8s fier de ce que r\u00e9alise l'entreprise depuis 3 ans \n"
       ]
      }
     ],
     "prompt_number": 5
    },
    {
     "cell_type": "code",
     "collapsed": false,
     "input": [
      "url = \"http://www.passion-espace-club.com/viewtopic.php?f=59&t=2099&start=\"\n",
      "\n",
      "for scan in range(0,126,25):\n",
      "    scan_page = url+str(scan+75)\n",
      "    page = urllib2.urlopen(scan_page)\n",
      "    soup = BeautifulSoup(page)\n",
      "    case = soup.findAll(\"div\", { \"class\" : \"postbody\" })\n",
      "    for x in case:\n",
      "        xa = x.find(\"p\", { \"class\" : \"author\" })\n",
      "        xm = xa.find(\"strong\")\n",
      "        user_id = xm.text\n",
      "        xm.extract()\n",
      "        date_posted = xa.text[7:11]+xa.text[13:-1]\n",
      "        mapping = { 'S':'09', 'O':'10', 'N':'11', 'D':'12', 'J':'01', 'F':'02',  'M':'03'}\n",
      "        for k, v in mapping.iteritems():\n",
      "            date_posted = date_posted.replace(k, v)\n",
      "        date_posted = datetime.strptime(date_posted, '%d %m %Y, %H:%M')\n",
      "        try:\n",
      "            x.find(\"blockquote\").extract()\n",
      "        except:\n",
      "            pass\n",
      "        xtext = x.find(\"div\", { \"class\" : \"content\" }).getText(\" \")\n",
      "\n",
      "        doc = {'text': xtext, 'user': user_id, 'date': date_posted , 'forum_id' : 'passion-espace-club'}\n",
      "        forum_messages.save(doc)"
     ],
     "language": "python",
     "metadata": {},
     "outputs": [],
     "prompt_number": 6
    },
    {
     "cell_type": "code",
     "collapsed": false,
     "input": [
      "forum_messages.count()"
     ],
     "language": "python",
     "metadata": {},
     "outputs": [
      {
       "metadata": {},
       "output_type": "pyout",
       "prompt_number": 7,
       "text": [
        "2431"
       ]
      }
     ],
     "prompt_number": 7
    },
    {
     "cell_type": "code",
     "collapsed": false,
     "input": [
      "m = forum_messages.find_one({'forum_id' : 'passion-espace-club'})\n",
      "print m['text']"
     ],
     "language": "python",
     "metadata": {},
     "outputs": [
      {
       "output_type": "stream",
       "stream": "stdout",
       "text": [
        "Avant de tirer sur le pianiste, attendez au moins de le voir ! Toutes les photos que l'on trouve sont soit tr\u00e8s ancienne (mars20414 !) ou camoufl\u00e9es.\n"
       ]
      }
     ],
     "prompt_number": 8
    },
    {
     "cell_type": "code",
     "collapsed": false,
     "input": [
      "url = \"http://www.planeterenault.com/forum/espace-v-jfc-la-cinquieme-generation-d-espace-sorti-t18600-\"\n",
      "\n",
      "for scan in range(0,793,18):\n",
      "    scan_page = url+str(scan+2250)+'.html'\n",
      "    page = urllib2.urlopen(scan_page)\n",
      "    soup = BeautifulSoup(page)\n",
      "    rows = soup.findAll(\"table\", { \"class\" : \"row1\" })\n",
      "    rows += soup.findAll(\"table\", { \"class\" : \"row2\" })\n",
      "    for row in rows:\n",
      "        user = row.find(\"td\", { \"class\" : \"user\" })\n",
      "        user_id = user.find(\"span\", { \"class\" : \"auteurPost\" }).text.strip(' \\t\\n\\r').rstrip(' \\t\\n\\r')\n",
      "        user.extract()\n",
      "        message_id = row.find(\"a\")['href']\n",
      "        message_id = message_id[1+message_id.index('#'):]\n",
      "        date_raw = row.find(\"a\").parent\n",
      "        date_posted = date_raw.text.lstrip(' \\t\\n\\r').rstrip(' \\t\\n\\r')\n",
      "        date_posted = date_posted[4:8]+date_posted[11:]\n",
      "        mapping = { 'S':'09', 'O':'10', 'N':'11', 'D':'12', 'J':'01', 'F':'02',  'M':'03'}\n",
      "        for k, v in mapping.iteritems():\n",
      "            date_posted = date_posted.replace(k, v)\n",
      "        date_posted = datetime.strptime(date_posted, '%d %m %Y %H:%M:%S')\n",
      "        date_raw.extract()\n",
      "        message_raw = row.find(\"div\", { \"id\" : \"message_\"+message_id })\n",
      "        try:\n",
      "            message_raw.find(\"table\").extract()\n",
      "        except:\n",
      "            pass\n",
      "        message = message_raw.getText(\" \").lstrip(' \\t\\n\\r').rstrip(' \\t\\n\\r')\n",
      "\n",
      "        doc = {'text': message, 'user': user_id, 'date': date_posted , 'forum_id' : 'planeterenault-espace-5'}\n",
      "        forum_messages.save(doc)"
     ],
     "language": "python",
     "metadata": {},
     "outputs": [],
     "prompt_number": 9
    },
    {
     "cell_type": "code",
     "collapsed": false,
     "input": [
      "forum_messages.count()"
     ],
     "language": "python",
     "metadata": {},
     "outputs": [
      {
       "metadata": {},
       "output_type": "pyout",
       "prompt_number": 10,
       "text": [
        "3224"
       ]
      }
     ],
     "prompt_number": 10
    },
    {
     "cell_type": "code",
     "collapsed": false,
     "input": [
      "m = forum_messages.find_one({'forum_id' : 'planeterenault-espace-5'})\n",
      "print m['text']"
     ],
     "language": "python",
     "metadata": {},
     "outputs": [
      {
       "output_type": "stream",
       "stream": "stdout",
       "text": [
        "Ca correspond \u00e0 la capture d'\u00e9cran faite en d\u00e9but d'\u00e9t\u00e9 lors d'une pr\u00e9sentation aux cadres Renault : commercialisation en avril 2015.\n"
       ]
      }
     ],
     "prompt_number": 11
    },
    {
     "cell_type": "code",
     "collapsed": false,
     "input": [
      "print forum_messages.find({'forum_id' : 'forum-auto-secrets-espace-5'}).count()\n",
      "print forum_messages.find({'forum_id' : 'passion-espace-club'}).count()\n",
      "print forum_messages.find({'forum_id' : 'planeterenault-espace-5'}).count()"
     ],
     "language": "python",
     "metadata": {},
     "outputs": [
      {
       "output_type": "stream",
       "stream": "stdout",
       "text": [
        "2303\n",
        "128\n",
        "793\n"
       ]
      }
     ],
     "prompt_number": 12
    },
    {
     "cell_type": "code",
     "collapsed": false,
     "input": [],
     "language": "python",
     "metadata": {},
     "outputs": []
    }
   ],
   "metadata": {}
  }
 ]
}